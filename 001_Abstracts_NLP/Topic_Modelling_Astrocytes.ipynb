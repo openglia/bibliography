{
 "cells": [
  {
   "cell_type": "markdown",
   "metadata": {
    "toc": true
   },
   "source": [
    "<h1>Table of Contents<span class=\"tocSkip\"></span></h1>\n",
    "<div class=\"toc\"><ul class=\"toc-item\"><li><span><a href=\"#Topic-Modelling-on-Astrocytes\" data-toc-modified-id=\"Topic-Modelling-on-Astrocytes-1\"><span class=\"toc-item-num\">1&nbsp;&nbsp;</span>Topic Modelling on Astrocytes</a></span><ul class=\"toc-item\"><li><span><a href=\"#TODO:\" data-toc-modified-id=\"TODO:-1.1\"><span class=\"toc-item-num\">1.1&nbsp;&nbsp;</span>TODO:</a></span></li><li><span><a href=\"#Database\" data-toc-modified-id=\"Database-1.2\"><span class=\"toc-item-num\">1.2&nbsp;&nbsp;</span>Database</a></span><ul class=\"toc-item\"><li><span><a href=\"#Scrappers\" data-toc-modified-id=\"Scrappers-1.2.1\"><span class=\"toc-item-num\">1.2.1&nbsp;&nbsp;</span>Scrappers</a></span></li></ul></li><li><span><a href=\"#BIB-PARSERS\" data-toc-modified-id=\"BIB-PARSERS-1.3\"><span class=\"toc-item-num\">1.3&nbsp;&nbsp;</span>BIB PARSERS</a></span><ul class=\"toc-item\"><li><span><a href=\"#References\" data-toc-modified-id=\"References-1.3.1\"><span class=\"toc-item-num\">1.3.1&nbsp;&nbsp;</span>References</a></span></li></ul></li><li><span><a href=\"#Checkpoint-database.\" data-toc-modified-id=\"Checkpoint-database.-1.4\"><span class=\"toc-item-num\">1.4&nbsp;&nbsp;</span>Checkpoint database.</a></span></li><li><span><a href=\"#Basic-distribution-of-year\" data-toc-modified-id=\"Basic-distribution-of-year-1.5\"><span class=\"toc-item-num\">1.5&nbsp;&nbsp;</span>Basic distribution of year</a></span></li><li><span><a href=\"#Preprocessing\" data-toc-modified-id=\"Preprocessing-1.6\"><span class=\"toc-item-num\">1.6&nbsp;&nbsp;</span>Preprocessing</a></span><ul class=\"toc-item\"><li><span><a href=\"#Analysing-one-article\" data-toc-modified-id=\"Analysing-one-article-1.6.1\"><span class=\"toc-item-num\">1.6.1&nbsp;&nbsp;</span>Analysing one article</a></span></li></ul></li><li><span><a href=\"#All-Abstracts\" data-toc-modified-id=\"All-Abstracts-1.7\"><span class=\"toc-item-num\">1.7&nbsp;&nbsp;</span>All Abstracts</a></span><ul class=\"toc-item\"><li><span><a href=\"#LDA\" data-toc-modified-id=\"LDA-1.7.1\"><span class=\"toc-item-num\">1.7.1&nbsp;&nbsp;</span>LDA</a></span></li><li><span><a href=\"#Interactive-Visualization\" data-toc-modified-id=\"Interactive-Visualization-1.7.2\"><span class=\"toc-item-num\">1.7.2&nbsp;&nbsp;</span>Interactive Visualization</a></span></li></ul></li><li><span><a href=\"#Models-Variation\" data-toc-modified-id=\"Models-Variation-1.8\"><span class=\"toc-item-num\">1.8&nbsp;&nbsp;</span>Models Variation</a></span><ul class=\"toc-item\"><li><span><a href=\"#Perplexity\" data-toc-modified-id=\"Perplexity-1.8.1\"><span class=\"toc-item-num\">1.8.1&nbsp;&nbsp;</span>Perplexity</a></span></li><li><span><a href=\"#Coherence\" data-toc-modified-id=\"Coherence-1.8.2\"><span class=\"toc-item-num\">1.8.2&nbsp;&nbsp;</span>Coherence</a></span></li><li><span><a href=\"#What-is-the-dominant-topic-per-article?\" data-toc-modified-id=\"What-is-the-dominant-topic-per-article?-1.8.3\"><span class=\"toc-item-num\">1.8.3&nbsp;&nbsp;</span>What is the dominant topic per article?</a></span></li><li><span><a href=\"#Topic-by-year\" data-toc-modified-id=\"Topic-by-year-1.8.4\"><span class=\"toc-item-num\">1.8.4&nbsp;&nbsp;</span>Topic by year</a></span></li><li><span><a href=\"#What-is-the-most-representative-article-per-topic?\" data-toc-modified-id=\"What-is-the-most-representative-article-per-topic?-1.8.5\"><span class=\"toc-item-num\">1.8.5&nbsp;&nbsp;</span>What is the most representative article per topic?</a></span></li><li><span><a href=\"#Topic-distribution-accross-documents\" data-toc-modified-id=\"Topic-distribution-accross-documents-1.8.6\"><span class=\"toc-item-num\">1.8.6&nbsp;&nbsp;</span>Topic distribution accross documents</a></span></li></ul></li><li><span><a href=\"#Titles\" data-toc-modified-id=\"Titles-1.9\"><span class=\"toc-item-num\">1.9&nbsp;&nbsp;</span>Titles</a></span></li><li><span><a href=\"#Configuration-of-the-environment\" data-toc-modified-id=\"Configuration-of-the-environment-1.10\"><span class=\"toc-item-num\">1.10&nbsp;&nbsp;</span>Configuration of the environment</a></span><ul class=\"toc-item\"><li><span><a href=\"#Installation\" data-toc-modified-id=\"Installation-1.10.1\"><span class=\"toc-item-num\">1.10.1&nbsp;&nbsp;</span>Installation</a></span></li><li><span><a href=\"#Bugs\" data-toc-modified-id=\"Bugs-1.10.2\"><span class=\"toc-item-num\">1.10.2&nbsp;&nbsp;</span>Bugs</a></span><ul class=\"toc-item\"><li><span><a href=\"#Memory-problem\" data-toc-modified-id=\"Memory-problem-1.10.2.1\"><span class=\"toc-item-num\">1.10.2.1&nbsp;&nbsp;</span>Memory problem</a></span></li></ul></li></ul></li></ul></li></ul></div>"
   ]
  },
  {
   "cell_type": "markdown",
   "metadata": {},
   "source": [
    "# Topic Modelling on Astrocytes\n",
    "\n",
    "## TODO:\n",
    "- [ ] Import Astrocyte Data\n",
    "- [ ] Description of the database\n",
    "- [ ] Decide for one bib parse\n",
    "- [ ] Turns the bib file into a dataframe\n",
    "- [ ] Start working on gensim\n",
    "- [ ] Create Gold Standard \n",
    "- [ ] Create Test Dataset \n",
    "- [ ] Mix with other publications\n",
    "\n",
    "## Database\n",
    "\n",
    "https://apps.webofknowledge.com/Search.do?product=WOS&SID=D39DgCWqLiO9diBzw7J&search_mode=GeneralSearch&prID=ba3a3387-4fb8-448c-8783-891f5e007d01\n",
    "\n",
    "### Scrappers\n",
    "\n",
    "- https://pypi.org/project/scholarly/\n",
    "\n",
    "## BIB PARSERS \n",
    "\n",
    "- https://github.com/sciunto-org/python-bibtexparser\n",
    "- https://pypi.org/project/biblib/ [ORPHAN]\n",
    "\n",
    "### References \n",
    "\n",
    "- https://medium.com/@colemiller94/topic-modeling-with-spacy-and-gensim-7ecfd3de95f4\n",
    "\n"
   ]
  },
  {
   "cell_type": "code",
   "execution_count": null,
   "metadata": {},
   "outputs": [],
   "source": [
    "%%bash \n",
    "#tar xvf Astrocyte_WoS_data-20191007T130723Z-001.zip\n",
    "unzip Astrocyte_WoS_data-20191007T130723Z-001.zip "
   ]
  },
  {
   "cell_type": "code",
   "execution_count": 88,
   "metadata": {},
   "outputs": [],
   "source": [
    "import os\n",
    "import bibtexparser\n",
    "from tqdm import tqdm\n",
    "import pandas as pd\n",
    "import numpy as np\n",
    "import matplotlib.pyplot as plt\n",
    "import seaborn as sns\n",
    "import matplotlib.pyplot as plt\n",
    "import gensim\n",
    "import numpy as np\n",
    "import spacy\n",
    "from pprint import pprint\n",
    "import pickle\n",
    "\n",
    "\n",
    "from gensim.models import CoherenceModel, LdaModel, LsiModel, HdpModel\n",
    "from gensim.models.wrappers import LdaMallet\n",
    "from gensim.corpora import Dictionary\n",
    "import pyLDAvis.gensim\n",
    "\n",
    "import os, re, operator, warnings\n",
    "warnings.filterwarnings('ignore')  # Let's not pay heed to them right now\n",
    "%matplotlib inline\n",
    "\n",
    "\n",
    "\n",
    "data = 'Astrocyte_WoS_data/'"
   ]
  },
  {
   "cell_type": "code",
   "execution_count": null,
   "metadata": {},
   "outputs": [],
   "source": [
    "with open('Astrocyte_WoS_data/00001-00500.bib') as bibtex_file:\n",
    "    bib_database = bibtexparser.load(bibtex_file)"
   ]
  },
  {
   "cell_type": "code",
   "execution_count": null,
   "metadata": {},
   "outputs": [],
   "source": [
    "bib_database.get_entry_list()"
   ]
  },
  {
   "cell_type": "code",
   "execution_count": null,
   "metadata": {},
   "outputs": [],
   "source": [
    "for i in bib_database.entries:\n",
    "    print(i['publisher'])\n",
    "\n",
    "#bib_database.entries[0]['publisher']"
   ]
  },
  {
   "cell_type": "code",
   "execution_count": null,
   "metadata": {},
   "outputs": [],
   "source": [
    "big_bib_database = []\n",
    "for filename in tqdm(os.listdir(data)):\n",
    "    with open(data + filename) as bibtex_file:\n",
    "        bib_database = bibtexparser.load(bibtex_file)\n",
    "        big_bib_database.extend(bib_database.entries)"
   ]
  },
  {
   "cell_type": "markdown",
   "metadata": {},
   "source": [
    "## Checkpoint database. "
   ]
  },
  {
   "cell_type": "code",
   "execution_count": 2,
   "metadata": {},
   "outputs": [
    {
     "name": "stdout",
     "output_type": "stream",
     "text": [
      "CPU times: user 658 ms, sys: 511 ms, total: 1.17 s\n",
      "Wall time: 1.17 s\n"
     ]
    }
   ],
   "source": [
    "%%time\n",
    "\n",
    "#import dill\n",
    "filepath = '/jupyter/carlos/TM_astrocytes/session.pkl'\n",
    "#dill.dump_session(filepath) # Save the session\n",
    "#dill.load_session(filepath) # Load the session\n",
    "\n",
    "# with open(filepath, 'wb') as handle:\n",
    "#     pickle.dump(big_bib_database, handle, protocol=pickle.HIGHEST_PROTOCOL)\n",
    "    \n",
    "with open(filepath, 'rb') as handle:\n",
    "    big_bib_database = pickle.load(handle)"
   ]
  },
  {
   "cell_type": "code",
   "execution_count": 15,
   "metadata": {},
   "outputs": [
    {
     "data": {
      "text/plain": [
       "dict_keys(['da', 'unique-id', 'doc-delivery-number', 'journal-iso', 'usage-count-since-2013', 'usage-count-last-180-days', 'times-cited', 'number-of-cited-references', 'cited-references', 'orcid-numbers', 'researcherid-numbers', 'web-of-science-categories', 'research-areas', 'keywords-plus', 'keywords', 'issn', 'doi', 'affiliation', 'language', 'type', 'address', 'publisher', 'abstract', 'month', 'pages', 'number', 'volume', 'year', 'journal', 'title', 'author', 'ENTRYTYPE', 'ID'])"
      ]
     },
     "execution_count": 15,
     "metadata": {},
     "output_type": "execute_result"
    }
   ],
   "source": [
    "big_bib_database[0].keys()"
   ]
  },
  {
   "cell_type": "code",
   "execution_count": 4,
   "metadata": {},
   "outputs": [
    {
     "data": {
      "text/html": [
       "<div>\n",
       "<style scoped>\n",
       "    .dataframe tbody tr th:only-of-type {\n",
       "        vertical-align: middle;\n",
       "    }\n",
       "\n",
       "    .dataframe tbody tr th {\n",
       "        vertical-align: top;\n",
       "    }\n",
       "\n",
       "    .dataframe thead th {\n",
       "        text-align: right;\n",
       "    }\n",
       "</style>\n",
       "<table border=\"1\" class=\"dataframe\">\n",
       "  <thead>\n",
       "    <tr style=\"text-align: right;\">\n",
       "      <th></th>\n",
       "      <th>da</th>\n",
       "      <th>unique-id</th>\n",
       "      <th>doc-delivery-number</th>\n",
       "      <th>journal-iso</th>\n",
       "      <th>usage-count-since-2013</th>\n",
       "      <th>usage-count-last-180-days</th>\n",
       "      <th>times-cited</th>\n",
       "      <th>number-of-cited-references</th>\n",
       "      <th>cited-references</th>\n",
       "      <th>orcid-numbers</th>\n",
       "      <th>...</th>\n",
       "      <th>meeting</th>\n",
       "      <th>author-email</th>\n",
       "      <th>article-number</th>\n",
       "      <th>funding-text</th>\n",
       "      <th>isbn</th>\n",
       "      <th>series</th>\n",
       "      <th>booktitle</th>\n",
       "      <th>editor</th>\n",
       "      <th>book-group-author</th>\n",
       "      <th>book-author</th>\n",
       "    </tr>\n",
       "  </thead>\n",
       "  <tbody>\n",
       "    <tr>\n",
       "      <td>0</td>\n",
       "      <td>{2018-10-16}</td>\n",
       "      <td>{ISI:A1993LP83600008}</td>\n",
       "      <td>{LP836}</td>\n",
       "      <td>{Dev. Brain Res.}</td>\n",
       "      <td>{4}</td>\n",
       "      <td>{0}</td>\n",
       "      <td>{146}</td>\n",
       "      <td>{73}</td>\n",
       "      <td>{AIZENMAN Y, 1987, BRAIN RES, V406, P32, DOI 1...</td>\n",
       "      <td>{Barnard, Ross/0000-0002-5685-4828}</td>\n",
       "      <td>...</td>\n",
       "      <td>NaN</td>\n",
       "      <td>NaN</td>\n",
       "      <td>NaN</td>\n",
       "      <td>NaN</td>\n",
       "      <td>NaN</td>\n",
       "      <td>NaN</td>\n",
       "      <td>NaN</td>\n",
       "      <td>NaN</td>\n",
       "      <td>NaN</td>\n",
       "      <td>NaN</td>\n",
       "    </tr>\n",
       "    <tr>\n",
       "      <td>1</td>\n",
       "      <td>{2018-10-16}</td>\n",
       "      <td>{ISI:A1993LV48000009}</td>\n",
       "      <td>{LV480}</td>\n",
       "      <td>{Neurosci. Lett.}</td>\n",
       "      <td>{0}</td>\n",
       "      <td>{0}</td>\n",
       "      <td>{23}</td>\n",
       "      <td>{26}</td>\n",
       "      <td>{ALBRECHT J, 1993, BRAIN RES, V607, P249, DOI ...</td>\n",
       "      <td>NaN</td>\n",
       "      <td>...</td>\n",
       "      <td>NaN</td>\n",
       "      <td>NaN</td>\n",
       "      <td>NaN</td>\n",
       "      <td>NaN</td>\n",
       "      <td>NaN</td>\n",
       "      <td>NaN</td>\n",
       "      <td>NaN</td>\n",
       "      <td>NaN</td>\n",
       "      <td>NaN</td>\n",
       "      <td>NaN</td>\n",
       "    </tr>\n",
       "    <tr>\n",
       "      <td>2</td>\n",
       "      <td>{2018-10-16}</td>\n",
       "      <td>{ISI:A1993LU52200021}</td>\n",
       "      <td>{LU522}</td>\n",
       "      <td>{Biochem. J.}</td>\n",
       "      <td>{1}</td>\n",
       "      <td>{0}</td>\n",
       "      <td>{44}</td>\n",
       "      <td>{70}</td>\n",
       "      <td>{ALALI SYA, 1981, HISTOCHEMISTRY, V72, P107, D...</td>\n",
       "      <td>{Forsyth, Rob/0000-0002-5657-4180\\n}</td>\n",
       "      <td>...</td>\n",
       "      <td>NaN</td>\n",
       "      <td>NaN</td>\n",
       "      <td>NaN</td>\n",
       "      <td>NaN</td>\n",
       "      <td>NaN</td>\n",
       "      <td>NaN</td>\n",
       "      <td>NaN</td>\n",
       "      <td>NaN</td>\n",
       "      <td>NaN</td>\n",
       "      <td>NaN</td>\n",
       "    </tr>\n",
       "    <tr>\n",
       "      <td>3</td>\n",
       "      <td>{2018-10-16}</td>\n",
       "      <td>{ISI:A1993LV61300011}</td>\n",
       "      <td>{LV613}</td>\n",
       "      <td>{Eur. J. Pharmacol.-Molec. Pharmacol. Sect.}</td>\n",
       "      <td>{6}</td>\n",
       "      <td>{0}</td>\n",
       "      <td>{150}</td>\n",
       "      <td>{43}</td>\n",
       "      <td>{ATASHI JR, 1992, NEURON, V8, P831, DOI 10.101...</td>\n",
       "      <td>NaN</td>\n",
       "      <td>...</td>\n",
       "      <td>NaN</td>\n",
       "      <td>NaN</td>\n",
       "      <td>NaN</td>\n",
       "      <td>NaN</td>\n",
       "      <td>NaN</td>\n",
       "      <td>NaN</td>\n",
       "      <td>NaN</td>\n",
       "      <td>NaN</td>\n",
       "      <td>NaN</td>\n",
       "      <td>NaN</td>\n",
       "    </tr>\n",
       "    <tr>\n",
       "      <td>4</td>\n",
       "      <td>{2018-10-16}</td>\n",
       "      <td>{ISI:A1993LP82000002}</td>\n",
       "      <td>{LP820}</td>\n",
       "      <td>{J. Comp. Neurol.}</td>\n",
       "      <td>{0}</td>\n",
       "      <td>{0}</td>\n",
       "      <td>{71}</td>\n",
       "      <td>{106}</td>\n",
       "      <td>{ALAIMOBEURET D, 1985, NEUROSCIENCE, V14, P110...</td>\n",
       "      <td>NaN</td>\n",
       "      <td>...</td>\n",
       "      <td>NaN</td>\n",
       "      <td>NaN</td>\n",
       "      <td>NaN</td>\n",
       "      <td>NaN</td>\n",
       "      <td>NaN</td>\n",
       "      <td>NaN</td>\n",
       "      <td>NaN</td>\n",
       "      <td>NaN</td>\n",
       "      <td>NaN</td>\n",
       "      <td>NaN</td>\n",
       "    </tr>\n",
       "    <tr>\n",
       "      <td>...</td>\n",
       "      <td>...</td>\n",
       "      <td>...</td>\n",
       "      <td>...</td>\n",
       "      <td>...</td>\n",
       "      <td>...</td>\n",
       "      <td>...</td>\n",
       "      <td>...</td>\n",
       "      <td>...</td>\n",
       "      <td>...</td>\n",
       "      <td>...</td>\n",
       "      <td>...</td>\n",
       "      <td>...</td>\n",
       "      <td>...</td>\n",
       "      <td>...</td>\n",
       "      <td>...</td>\n",
       "      <td>...</td>\n",
       "      <td>...</td>\n",
       "      <td>...</td>\n",
       "      <td>...</td>\n",
       "      <td>...</td>\n",
       "      <td>...</td>\n",
       "    </tr>\n",
       "    <tr>\n",
       "      <td>59060</td>\n",
       "      <td>{2018-10-16}</td>\n",
       "      <td>{ISI:000188740900014}</td>\n",
       "      <td>{770QC}</td>\n",
       "      <td>{J. Neurosci. Res.}</td>\n",
       "      <td>{7}</td>\n",
       "      <td>{0}</td>\n",
       "      <td>{87}</td>\n",
       "      <td>{63}</td>\n",
       "      <td>{Acampora D, 2001, PROG NEUROBIOL, V64, P69, D...</td>\n",
       "      <td>NaN</td>\n",
       "      <td>...</td>\n",
       "      <td>NaN</td>\n",
       "      <td>{sukim@ajou.ac.kr}</td>\n",
       "      <td>NaN</td>\n",
       "      <td>NaN</td>\n",
       "      <td>NaN</td>\n",
       "      <td>NaN</td>\n",
       "      <td>NaN</td>\n",
       "      <td>NaN</td>\n",
       "      <td>NaN</td>\n",
       "      <td>NaN</td>\n",
       "    </tr>\n",
       "    <tr>\n",
       "      <td>59061</td>\n",
       "      <td>{2018-10-16}</td>\n",
       "      <td>{ISI:000189379400008}</td>\n",
       "      <td>{780KG}</td>\n",
       "      <td>{Toxicol. Appl. Pharmacol.}</td>\n",
       "      <td>{13}</td>\n",
       "      <td>{1}</td>\n",
       "      <td>{39}</td>\n",
       "      <td>{80}</td>\n",
       "      <td>{ABBOTT NJ, 1992, J CELL SCI, V103, P23.\\nAbbr...</td>\n",
       "      <td>NaN</td>\n",
       "      <td>...</td>\n",
       "      <td>NaN</td>\n",
       "      <td>{Tada.Toimela@uta.fi}</td>\n",
       "      <td>NaN</td>\n",
       "      <td>NaN</td>\n",
       "      <td>NaN</td>\n",
       "      <td>NaN</td>\n",
       "      <td>NaN</td>\n",
       "      <td>NaN</td>\n",
       "      <td>NaN</td>\n",
       "      <td>NaN</td>\n",
       "    </tr>\n",
       "    <tr>\n",
       "      <td>59062</td>\n",
       "      <td>{2018-10-16}</td>\n",
       "      <td>{ISI:000188613100013}</td>\n",
       "      <td>{769EH}</td>\n",
       "      <td>{Biochem. Biophys. Res. Commun.}</td>\n",
       "      <td>{1}</td>\n",
       "      <td>{0}</td>\n",
       "      <td>{2}</td>\n",
       "      <td>{15}</td>\n",
       "      <td>{JAWORSKI DM, 1995, J NEUROSCI, V15, P1352.\\nJ...</td>\n",
       "      <td>NaN</td>\n",
       "      <td>...</td>\n",
       "      <td>NaN</td>\n",
       "      <td>{lycheng@public7.sta.net.cn}</td>\n",
       "      <td>NaN</td>\n",
       "      <td>NaN</td>\n",
       "      <td>NaN</td>\n",
       "      <td>NaN</td>\n",
       "      <td>NaN</td>\n",
       "      <td>NaN</td>\n",
       "      <td>NaN</td>\n",
       "      <td>NaN</td>\n",
       "    </tr>\n",
       "    <tr>\n",
       "      <td>59063</td>\n",
       "      <td>{2018-10-16}</td>\n",
       "      <td>{ISI:000188796500010}</td>\n",
       "      <td>{771QA}</td>\n",
       "      <td>{Brain Res.}</td>\n",
       "      <td>{2}</td>\n",
       "      <td>{0}</td>\n",
       "      <td>{3}</td>\n",
       "      <td>{34}</td>\n",
       "      <td>{Bhat NR, 1998, J NEUROSCI, V18, P1633.\\nBolan...</td>\n",
       "      <td>{Miljkovic, Dorde/0000-0002-5613-9306\\nStojano...</td>\n",
       "      <td>...</td>\n",
       "      <td>NaN</td>\n",
       "      <td>{branicevo@yahoo.com}</td>\n",
       "      <td>NaN</td>\n",
       "      <td>NaN</td>\n",
       "      <td>NaN</td>\n",
       "      <td>NaN</td>\n",
       "      <td>NaN</td>\n",
       "      <td>NaN</td>\n",
       "      <td>NaN</td>\n",
       "      <td>NaN</td>\n",
       "    </tr>\n",
       "    <tr>\n",
       "      <td>59064</td>\n",
       "      <td>{2018-10-16}</td>\n",
       "      <td>{ISI:000188742400010}</td>\n",
       "      <td>{770QT}</td>\n",
       "      <td>{Neurosci. Lett.}</td>\n",
       "      <td>{1}</td>\n",
       "      <td>{1}</td>\n",
       "      <td>{19}</td>\n",
       "      <td>{19}</td>\n",
       "      <td>{Abe K, 1997, BRAIN RES, V776, P230, DOI 10.10...</td>\n",
       "      <td>NaN</td>\n",
       "      <td>...</td>\n",
       "      <td>NaN</td>\n",
       "      <td>{cmhsueh@mail.nchu.edu.tw}</td>\n",
       "      <td>NaN</td>\n",
       "      <td>NaN</td>\n",
       "      <td>NaN</td>\n",
       "      <td>NaN</td>\n",
       "      <td>NaN</td>\n",
       "      <td>NaN</td>\n",
       "      <td>NaN</td>\n",
       "      <td>NaN</td>\n",
       "    </tr>\n",
       "  </tbody>\n",
       "</table>\n",
       "<p>59065 rows × 48 columns</p>\n",
       "</div>"
      ],
      "text/plain": [
       "                 da              unique-id doc-delivery-number  \\\n",
       "0      {2018-10-16}  {ISI:A1993LP83600008}             {LP836}   \n",
       "1      {2018-10-16}  {ISI:A1993LV48000009}             {LV480}   \n",
       "2      {2018-10-16}  {ISI:A1993LU52200021}             {LU522}   \n",
       "3      {2018-10-16}  {ISI:A1993LV61300011}             {LV613}   \n",
       "4      {2018-10-16}  {ISI:A1993LP82000002}             {LP820}   \n",
       "...             ...                    ...                 ...   \n",
       "59060  {2018-10-16}  {ISI:000188740900014}             {770QC}   \n",
       "59061  {2018-10-16}  {ISI:000189379400008}             {780KG}   \n",
       "59062  {2018-10-16}  {ISI:000188613100013}             {769EH}   \n",
       "59063  {2018-10-16}  {ISI:000188796500010}             {771QA}   \n",
       "59064  {2018-10-16}  {ISI:000188742400010}             {770QT}   \n",
       "\n",
       "                                        journal-iso usage-count-since-2013  \\\n",
       "0                                 {Dev. Brain Res.}                    {4}   \n",
       "1                                 {Neurosci. Lett.}                    {0}   \n",
       "2                                     {Biochem. J.}                    {1}   \n",
       "3      {Eur. J. Pharmacol.-Molec. Pharmacol. Sect.}                    {6}   \n",
       "4                                {J. Comp. Neurol.}                    {0}   \n",
       "...                                             ...                    ...   \n",
       "59060                           {J. Neurosci. Res.}                    {7}   \n",
       "59061                   {Toxicol. Appl. Pharmacol.}                   {13}   \n",
       "59062              {Biochem. Biophys. Res. Commun.}                    {1}   \n",
       "59063                                  {Brain Res.}                    {2}   \n",
       "59064                             {Neurosci. Lett.}                    {1}   \n",
       "\n",
       "      usage-count-last-180-days times-cited number-of-cited-references  \\\n",
       "0                           {0}       {146}                       {73}   \n",
       "1                           {0}        {23}                       {26}   \n",
       "2                           {0}        {44}                       {70}   \n",
       "3                           {0}       {150}                       {43}   \n",
       "4                           {0}        {71}                      {106}   \n",
       "...                         ...         ...                        ...   \n",
       "59060                       {0}        {87}                       {63}   \n",
       "59061                       {1}        {39}                       {80}   \n",
       "59062                       {0}         {2}                       {15}   \n",
       "59063                       {0}         {3}                       {34}   \n",
       "59064                       {1}        {19}                       {19}   \n",
       "\n",
       "                                        cited-references  \\\n",
       "0      {AIZENMAN Y, 1987, BRAIN RES, V406, P32, DOI 1...   \n",
       "1      {ALBRECHT J, 1993, BRAIN RES, V607, P249, DOI ...   \n",
       "2      {ALALI SYA, 1981, HISTOCHEMISTRY, V72, P107, D...   \n",
       "3      {ATASHI JR, 1992, NEURON, V8, P831, DOI 10.101...   \n",
       "4      {ALAIMOBEURET D, 1985, NEUROSCIENCE, V14, P110...   \n",
       "...                                                  ...   \n",
       "59060  {Acampora D, 2001, PROG NEUROBIOL, V64, P69, D...   \n",
       "59061  {ABBOTT NJ, 1992, J CELL SCI, V103, P23.\\nAbbr...   \n",
       "59062  {JAWORSKI DM, 1995, J NEUROSCI, V15, P1352.\\nJ...   \n",
       "59063  {Bhat NR, 1998, J NEUROSCI, V18, P1633.\\nBolan...   \n",
       "59064  {Abe K, 1997, BRAIN RES, V776, P230, DOI 10.10...   \n",
       "\n",
       "                                           orcid-numbers  ... meeting  \\\n",
       "0                    {Barnard, Ross/0000-0002-5685-4828}  ...     NaN   \n",
       "1                                                    NaN  ...     NaN   \n",
       "2                   {Forsyth, Rob/0000-0002-5657-4180\\n}  ...     NaN   \n",
       "3                                                    NaN  ...     NaN   \n",
       "4                                                    NaN  ...     NaN   \n",
       "...                                                  ...  ...     ...   \n",
       "59060                                                NaN  ...     NaN   \n",
       "59061                                                NaN  ...     NaN   \n",
       "59062                                                NaN  ...     NaN   \n",
       "59063  {Miljkovic, Dorde/0000-0002-5613-9306\\nStojano...  ...     NaN   \n",
       "59064                                                NaN  ...     NaN   \n",
       "\n",
       "                       author-email article-number funding-text isbn series  \\\n",
       "0                               NaN            NaN          NaN  NaN    NaN   \n",
       "1                               NaN            NaN          NaN  NaN    NaN   \n",
       "2                               NaN            NaN          NaN  NaN    NaN   \n",
       "3                               NaN            NaN          NaN  NaN    NaN   \n",
       "4                               NaN            NaN          NaN  NaN    NaN   \n",
       "...                             ...            ...          ...  ...    ...   \n",
       "59060            {sukim@ajou.ac.kr}            NaN          NaN  NaN    NaN   \n",
       "59061         {Tada.Toimela@uta.fi}            NaN          NaN  NaN    NaN   \n",
       "59062  {lycheng@public7.sta.net.cn}            NaN          NaN  NaN    NaN   \n",
       "59063         {branicevo@yahoo.com}            NaN          NaN  NaN    NaN   \n",
       "59064    {cmhsueh@mail.nchu.edu.tw}            NaN          NaN  NaN    NaN   \n",
       "\n",
       "      booktitle editor book-group-author book-author  \n",
       "0           NaN    NaN               NaN         NaN  \n",
       "1           NaN    NaN               NaN         NaN  \n",
       "2           NaN    NaN               NaN         NaN  \n",
       "3           NaN    NaN               NaN         NaN  \n",
       "4           NaN    NaN               NaN         NaN  \n",
       "...         ...    ...               ...         ...  \n",
       "59060       NaN    NaN               NaN         NaN  \n",
       "59061       NaN    NaN               NaN         NaN  \n",
       "59062       NaN    NaN               NaN         NaN  \n",
       "59063       NaN    NaN               NaN         NaN  \n",
       "59064       NaN    NaN               NaN         NaN  \n",
       "\n",
       "[59065 rows x 48 columns]"
      ]
     },
     "metadata": {},
     "output_type": "display_data"
    }
   ],
   "source": [
    "df = pd.DataFrame(big_bib_database)\n",
    "display(df)"
   ]
  },
  {
   "cell_type": "markdown",
   "metadata": {},
   "source": [
    "## Basic distribution of year"
   ]
  },
  {
   "cell_type": "code",
   "execution_count": 11,
   "metadata": {},
   "outputs": [
    {
     "data": {
      "image/png": "[encoded data removed]",
      "text/plain": [
       "<Figure size 1440x720 with 1 Axes>"
      ]
     },
     "metadata": {},
     "output_type": "display_data"
    }
   ],
   "source": [
    "years = [year[1:-1] for year in df.year]\n",
    "\n",
    "unique, counts = np.unique(years, return_counts=True)\n",
    "un = {'unique': unique, 'counts':counts}\n",
    "\n",
    "plt.figure(figsize=(20,10))\n",
    "sns.set(style=\"darkgrid\")\n",
    "line = sns.lineplot(x='unique',y='counts', data=un)\n",
    "for item in line.get_xticklabels():\n",
    "    item.set_rotation(45)\n",
    "    \n",
    "#line.set_xticklabels(line.get_xticklabels(), rotation=90)\n",
    "\n",
    "#int(big_bib_database[0]['year'][1:-1])"
   ]
  },
  {
   "cell_type": "code",
   "execution_count": 6,
   "metadata": {},
   "outputs": [
    {
     "data": {
      "text/plain": [
       "array(['1932', '1935', '1949', '1954', '1958', '1960', '1961', '1962',\n",
       "       '1963', '1964', '1965', '1966', '1967', '1968', '1969', '1970',\n",
       "       '1971', '1972', '1973', '1974', '1975', '1976', '1977', '1978',\n",
       "       '1979', '1980', '1981', '1982', '1983', '1984', '1985', '1986',\n",
       "       '1987', '1988', '1989', '1990', '1991', '1992', '1993', '1994',\n",
       "       '1995', '1996', '1997', '1998', '1999', '2000', '2001', '2002',\n",
       "       '2003', '2004', '2005', '2006', '2007', '2008', '2009', '2010',\n",
       "       '2011', '2012', '2013', '2014', '2015', '2016', '2017', '2018',\n",
       "       '2019'], dtype='<U4')"
      ]
     },
     "execution_count": 6,
     "metadata": {},
     "output_type": "execute_result"
    }
   ],
   "source": [
    "np.unique(years)"
   ]
  },
  {
   "cell_type": "code",
   "execution_count": null,
   "metadata": {},
   "outputs": [],
   "source": [
    "df['times-cited']"
   ]
  },
  {
   "cell_type": "code",
   "execution_count": null,
   "metadata": {},
   "outputs": [],
   "source": [
    "tc = [ int(str(tc).replace(\"nan\", \"{0}\")[1:-1]) for tc in df['times-cited']]\n",
    "\n",
    "unique, counts = np.unique(tc, return_counts=True)\n",
    "\n",
    "un = {'unique': unique, 'counts':counts}\n",
    "\n",
    "plt.figure(figsize=(20,10))\n",
    "sns.set(style=\"darkgrid\")\n",
    "line = sns.lineplot(x='unique',y='counts', data=un)\n",
    "\n",
    "\n",
    "print(counts)"
   ]
  },
  {
   "cell_type": "markdown",
   "metadata": {},
   "source": [
    "## Preprocessing"
   ]
  },
  {
   "cell_type": "markdown",
   "metadata": {},
   "source": [
    "### Analysing one article"
   ]
  },
  {
   "cell_type": "code",
   "execution_count": 22,
   "metadata": {},
   "outputs": [
    {
     "name": "stdout",
     "output_type": "stream",
     "text": [
      "There is literature evidence that both growth hormone (GH) and its mediator, insulin-like growth factor 1 (IGF-1), are able to act upon neuronal and glial cells in the brain. We report here the location of the GH receptor in the brain of the rat and rabbit. Receptor distribution was determined by immunohistochemistry with GH receptor/binding protein (BP) specific monoclonal antibodies and by in situ hybridization with a {[}S-35]riboprobe. GH receptor/BP immunoreactivity in the rat was most prominent in the neonate and declined with postnatal age. Receptor immunoreactivity was generalised with variation in immunoreactivity in regional areas. In the rat, strongest immunoreactivity was seen in layers 2, 3, 5 and especially layer 6 of the cerebral cortex, in neurones of the thalamus and hypothalamus, in Purkinje cells of the cerebellum, in neurones of the trapezoid body of the brainstem, and in retinal ganglion cells. Glial cells, notably astrocytes were also strongly reactive, along with ependyma of the choroid plexus, ventricular lining and pia mater. In the neonatal rabbit, strongest immunoreactivity was evident in layers 2 and 3 of the cerebral cortex, in pyramidal cells of the hippocampus, and in neurones of the inferior and superior colliculi, brain stem reticular formation, dorsal thalamus and hypothalamus. A similar distribution of GH receptor mRNA was seen by in situ hybridization. The ontogeny of GH receptor/BP mRNA in whole rat brain was quantified by solution hybridization-RNAse protection assay. Contrary to its ontogeny in the liver (Endocrinology, 113 (1983) 1325-1329) receptor mRNA decreased with postnatal age. This is the first description of divergent tissue specific ontogeny for the GH receptor/BP, and raises the possibility of a role for GH in influencing neuronal maturation and glial cell formation. Since there is evidence for GH synthesis within the brain, and receptor distribution generally correlates with IGF-1 expression, our findings raise the possibility of an endogenous GH-IGF-1 axis involved in brain growth and maturation.\n"
     ]
    }
   ],
   "source": [
    "abstracts = [str(str(title).replace(\"nan\", \"{0}\"))[1:-1].replace('\\n',\" \") for title in df['abstract']]\n",
    "text = abstracts[0]\n",
    "print(text)"
   ]
  },
  {
   "cell_type": "code",
   "execution_count": 25,
   "metadata": {},
   "outputs": [],
   "source": [
    "doc = nlp(text)"
   ]
  },
  {
   "cell_type": "code",
   "execution_count": 31,
   "metadata": {},
   "outputs": [],
   "source": [
    "# we add some words to the stop word list\n",
    "texts, article = [], []\n",
    "for abstract in abstracts:\n",
    "    doc = nlp(abstract)\n",
    "    for w in doc:\n",
    "        # if it's not a stop word or punctuation mark, add it to our article!\n",
    "        if w.text != '\\n' and not w.is_stop and not w.is_punct: # and not w.like_num:\n",
    "            # we add the lematized version of the word\n",
    "            article.append(w.lemma_)\n",
    "        # if it's a new line, it means we're onto our next document\n",
    "        if w.text == '\\n':\n",
    "            texts.append(article)\n",
    "            article = []"
   ]
  },
  {
   "cell_type": "markdown",
   "metadata": {},
   "source": [
    "## All Abstracts"
   ]
  },
  {
   "cell_type": "code",
   "execution_count": 53,
   "metadata": {},
   "outputs": [
    {
     "name": "stdout",
     "output_type": "stream",
     "text": [
      "CPU times: user 1min 36s, sys: 695 ms, total: 1min 36s\n",
      "Wall time: 1min 36s\n"
     ]
    }
   ],
   "source": [
    "%%time\n",
    "texts, article = [], []\n",
    "for abstract in abstracts:\n",
    "    doc = nlp(abstract)\n",
    "    for w in doc:\n",
    "        # if it's not a stop word or punctuation mark, add it to our article!\n",
    "        if w.text != 'astrocytes' and not w.is_stop and not w.is_punct and not w.like_num:\n",
    "            # we add the lematized version of the word\n",
    "            article.append(w.lemma_)\n",
    "\n",
    "    texts.append(article)\n",
    "    article = []"
   ]
  },
  {
   "cell_type": "code",
   "execution_count": null,
   "metadata": {
    "jupyter": {
     "outputs_hidden": true
    }
   },
   "outputs": [],
   "source": [
    "texts"
   ]
  },
  {
   "cell_type": "code",
   "execution_count": 55,
   "metadata": {},
   "outputs": [],
   "source": [
    "bigram = gensim.models.Phrases(texts)"
   ]
  },
  {
   "cell_type": "code",
   "execution_count": 58,
   "metadata": {},
   "outputs": [],
   "source": [
    "texts = [bigram[line] for line in texts]"
   ]
  },
  {
   "cell_type": "code",
   "execution_count": null,
   "metadata": {
    "scrolled": true
   },
   "outputs": [],
   "source": [
    "texts"
   ]
  },
  {
   "cell_type": "code",
   "execution_count": 60,
   "metadata": {},
   "outputs": [],
   "source": [
    "dictionary = Dictionary(texts)\n",
    "corpus = [dictionary.doc2bow(text) for text in texts]"
   ]
  },
  {
   "cell_type": "code",
   "execution_count": null,
   "metadata": {
    "jupyter": {
     "outputs_hidden": true
    },
    "scrolled": true
   },
   "outputs": [],
   "source": [
    "corpus[100]"
   ]
  },
  {
   "cell_type": "markdown",
   "metadata": {},
   "source": [
    "### LDA"
   ]
  },
  {
   "cell_type": "code",
   "execution_count": 62,
   "metadata": {},
   "outputs": [
    {
     "name": "stdout",
     "output_type": "stream",
     "text": [
      "CPU times: user 51.4 s, sys: 163 ms, total: 51.6 s\n",
      "Wall time: 51.6 s\n"
     ]
    }
   ],
   "source": [
    "%%time\n",
    "ldamodel = LdaModel(corpus=corpus, num_topics=10, id2word=dictionary)"
   ]
  },
  {
   "cell_type": "code",
   "execution_count": 63,
   "metadata": {},
   "outputs": [
    {
     "data": {
      "text/plain": [
       "[(0,\n",
       "  '0.014*\"brain\" + 0.012*\"beta\" + 0.012*\"AD\" + 0.012*\"mice\" + 0.008*\"levels\" + 0.008*\"Alzheimer_disease\" + 0.007*\"expression\" + 0.007*\"increased\" + 0.007*\"disease\" + 0.006*\"associated\"'),\n",
       " (1,\n",
       "  '0.014*\"GFAP\" + 0.013*\"cells\" + 0.011*\"neurons\" + 0.011*\"spinal_cord\" + 0.008*\"injury\" + 0.008*\"acidic_protein\" + 0.008*\"glial_fibrillary\" + 0.007*\"glial\" + 0.007*\"reactive\" + 0.007*\"observed\"'),\n",
       " (2,\n",
       "  '0.013*\"brain\" + 0.010*\"cells\" + 0.008*\"cell\" + 0.007*\"patients\" + 0.005*\"tissue\" + 0.005*\"human\" + 0.004*\"changes\" + 0.004*\"study\" + 0.003*\"method\" + 0.003*\"studies\"'),\n",
       " (3,\n",
       "  '0.013*\"induced\" + 0.013*\"rats\" + 0.012*\"treatment\" + 0.012*\"injury\" + 0.010*\"days\" + 0.010*\"increased\" + 0.010*\"expression\" + 0.009*\"group\" + 0.009*\"levels\" + 0.008*\"activation\"'),\n",
       " (4,\n",
       "  '0.054*\"cells\" + 0.018*\"cell\" + 0.013*\"differentiation\" + 0.009*\"neurons\" + 0.008*\"cultures\" + 0.007*\"neuronal\" + 0.007*\"vitro\" + 0.007*\"derived\" + 0.007*\"glial\" + 0.006*\"adult\"'),\n",
       " (5,\n",
       "  '0.019*\"expression\" + 0.017*\"cells\" + 0.012*\"induced\" + 0.011*\"activation\" + 0.009*\"microglia\" + 0.009*\"TNF_alpha\" + 0.007*\"B\" + 0.006*\"tumor\" + 0.006*\"production\" + 0.005*\"IL-1_beta\"'),\n",
       " (6,\n",
       "  '0.017*\"brain\" + 0.012*\"cells\" + 0.011*\"neurons\" + 0.010*\"glial\" + 0.008*\"neuronal\" + 0.007*\"CNS\" + 0.007*\"function\" + 0.006*\"system\" + 0.006*\"cell\" + 0.006*\"role\"'),\n",
       " (7,\n",
       "  '0.011*\"glutamate\" + 0.011*\"Ca2_+\" + 0.010*\"neurons\" + 0.010*\"activity\" + 0.008*\"induced\" + 0.008*\"release\" + 0.006*\"increased\" + 0.006*\"brain\" + 0.006*\"effect\" + 0.006*\"neuronal\"'),\n",
       " (8,\n",
       "  '0.027*\" \" + 0.011*\"brain\" + 0.008*\"changes\" + 0.006*\"observed\" + 0.005*\"mice\" + 0.004*\"Cx43\" + 0.004*\"age\" + 0.004*\"cell\" + 0.004*\"epilepsy\" + 0.004*\"found\"'),\n",
       " (9,\n",
       "  '0.032*\"expression\" + 0.018*\"cells\" + 0.017*\"protein\" + 0.010*\"mRNA\" + 0.008*\"induced\" + 0.007*\"receptor\" + 0.007*\"proteins\" + 0.006*\"expressed\" + 0.006*\"brain\" + 0.006*\"rat\"')]"
      ]
     },
     "execution_count": 63,
     "metadata": {},
     "output_type": "execute_result"
    }
   ],
   "source": [
    "pprint(ldamodel.show_topics(formatted=False))"
   ]
  },
  {
   "cell_type": "markdown",
   "metadata": {},
   "source": [
    "### Interactive Visualization"
   ]
  },
  {
   "cell_type": "code",
   "execution_count": null,
   "metadata": {},
   "outputs": [],
   "source": [
    "pyLDAvis.enable_notebook()\n",
    "pyLDAvis.gensim.prepare(ldamodel, corpus, dictionary)"
   ]
  },
  {
   "cell_type": "markdown",
   "metadata": {},
   "source": [
    "## Models Variation"
   ]
  },
  {
   "cell_type": "code",
   "execution_count": 85,
   "metadata": {},
   "outputs": [],
   "source": [
    "def compute_quality_values(dictionary, corpus, texts, limit, start=2, step=3):\n",
    "    coherence_values = []\n",
    "    perplexity_values = []\n",
    "    model_list = []\n",
    "    for num_topics in range(start, limit, step):\n",
    "        print(num_topics)\n",
    "        model = LdaModel(corpus=corpus, num_topics=num_topics, id2word=dictionary)\n",
    "        model_list.append(model)\n",
    "        perplexity_values.append(model.log_perplexity(corpus))\n",
    "        \n",
    "        coherencemodel = CoherenceModel(model=model, texts=texts, dictionary=dictionary, coherence='c_v')\n",
    "        coherence_values.append(coherencemodel.get_coherence())\n",
    "\n",
    "    return model_list, perplexity_values,coherence_values"
   ]
  },
  {
   "cell_type": "code",
   "execution_count": 207,
   "metadata": {},
   "outputs": [
    {
     "name": "stdout",
     "output_type": "stream",
     "text": [
      "2\n",
      "102\n",
      "202\n",
      "302\n",
      "402\n",
      "502\n",
      "602\n",
      "702\n",
      "802\n",
      "902\n",
      "CPU times: user 1d 20h 33min 17s, sys: 2d 7h 5min 48s, total: 4d 3h 39min 5s\n",
      "Wall time: 5h 8min 13s\n"
     ]
    }
   ],
   "source": [
    "%%time\n",
    "start=2\n",
    "limit=1000\n",
    "step=100\n",
    "\n",
    "model_list, perplexities_values, coherence_values = compute_quality_values(dictionary=dictionary, corpus=corpus, texts=texts, start=start, limit=limit, step=step)"
   ]
  },
  {
   "cell_type": "code",
   "execution_count": 89,
   "metadata": {},
   "outputs": [],
   "source": [
    "# Chekpoint\n",
    "filepath = '/jupyter/carlos/TM_astrocytes/models.pkl'\n",
    "\n",
    "with open(filepath, 'wb') as handle:\n",
    "    pickle.dump({'models': model_list, 'per': perplexities_values, 'coh': coherence_values}, handle, protocol=pickle.HIGHEST_PROTOCOL)"
   ]
  },
  {
   "cell_type": "markdown",
   "metadata": {},
   "source": [
    "### Perplexity "
   ]
  },
  {
   "cell_type": "code",
   "execution_count": 48,
   "metadata": {},
   "outputs": [
    {
     "name": "stdout",
     "output_type": "stream",
     "text": [
      "\n",
      "Perplexity:  -8.818375723167474\n"
     ]
    }
   ],
   "source": [
    "print('\\nPerplexity: ', ldamodel.log_perplexity(corpus))  # a measure of how good the model is. lower the better."
   ]
  },
  {
   "cell_type": "code",
   "execution_count": 208,
   "metadata": {},
   "outputs": [
    {
     "data": {
      "image/png": "[encoded data removed]",
      "text/plain": [
       "<Figure size 432x288 with 1 Axes>"
      ]
     },
     "metadata": {},
     "output_type": "display_data"
    }
   ],
   "source": [
    "# Show graph\n",
    "x = range(start, limit, step)\n",
    "plt.plot(x, perplexities_values)\n",
    "plt.xlabel(\"Num Topics\")\n",
    "plt.ylabel(\"Perplexity score\")\n",
    "plt.legend((\"perplexity_values\"), loc='best')\n",
    "plt.show()"
   ]
  },
  {
   "cell_type": "markdown",
   "metadata": {},
   "source": [
    "### Coherence"
   ]
  },
  {
   "cell_type": "code",
   "execution_count": 49,
   "metadata": {},
   "outputs": [
    {
     "name": "stdout",
     "output_type": "stream",
     "text": [
      "\n",
      "Coherence Score:  0.4683573223495393\n"
     ]
    }
   ],
   "source": [
    "coherence_model_lda = CoherenceModel(model=ldamodel, texts=texts, dictionary=dictionary, coherence='c_v')\n",
    "coherence_lda = coherence_model_lda.get_coherence()\n",
    "print('\\nCoherence Score: ', coherence_lda)"
   ]
  },
  {
   "cell_type": "code",
   "execution_count": 209,
   "metadata": {},
   "outputs": [
    {
     "data": {
      "image/png": "[encoded data removed]",
      "text/plain": [
       "<Figure size 432x288 with 1 Axes>"
      ]
     },
     "metadata": {},
     "output_type": "display_data"
    }
   ],
   "source": [
    "# Show graph\n",
    "\n",
    "x = range(start, limit, step)\n",
    "plt.plot(x, coherence_values)\n",
    "plt.xlabel(\"Num Topics\")\n",
    "plt.ylabel(\"Coherence score\")\n",
    "plt.legend((\"coherence_values\"), loc='best')\n",
    "plt.show()"
   ]
  },
  {
   "cell_type": "code",
   "execution_count": 211,
   "metadata": {},
   "outputs": [
    {
     "name": "stdout",
     "output_type": "stream",
     "text": [
      "[(217,\n",
      "  '0.126*\"signs\" + 0.112*\"pressure\" + 0.090*\"head\" + 0.030*\"optic_nerve\" + '\n",
      "  '0.028*\"MAPK_signaling\" + 0.024*\"culture_supernatants\" + '\n",
      "  '0.024*\"Central_nervous\" + 0.024*\"glaucomatous_optic\" + '\n",
      "  '0.023*\"patients_suffering\" + 0.023*\"destructive\"'),\n",
      " (154,\n",
      "  '0.253*\"=\" + 0.157*\"individuals\" + 0.058*\"study_suggests\" + 0.055*\"fold\" + '\n",
      "  '0.038*\"HIV_associated\" + 0.032*\"vs\" + 0.023*\"USA\" + 0.022*\"dendritic_spine\" '\n",
      "  '+ 0.022*\"associated\" + 0.021*\"HAND\"'),\n",
      " (406,\n",
      "  '0.199*\"BBB\" + 0.083*\"barrier_BBB\" + 0.075*\"OGD\" + 0.069*\"blood_brain\" + '\n",
      "  '0.033*\"oxygen_glucose\" + 0.026*\"continuously\" + 0.025*\"leakage\" + '\n",
      "  '0.025*\"model\" + 0.024*\"deprivation_OGD\" + 0.022*\"damage\"'),\n",
      " (49,\n",
      "  '0.420*\"synthesis\" + 0.071*\"exert\" + 0.042*\"gamma_aminobutyric\" + '\n",
      "  '0.031*\"augment\" + 0.023*\"de_novo\" + 0.020*\"levels\" + 0.016*\"fixation\" + '\n",
      "  '0.016*\"increases\" + 0.015*\"mM.\" + 0.013*\"required\"'),\n",
      " (396,\n",
      "  '0.150*\"p38_MAPK\" + 0.130*\"C6_glioma\" + 0.126*\"cDNA\" + '\n",
      "  '0.083*\"hypoxia_inducible\" + 0.073*\"subject\" + 0.054*\"Functional\" + '\n",
      "  '0.036*\"kinase_MAPK\" + 0.021*\"Activation_microglia\" + 0.020*\"SERT\" + '\n",
      "  '0.020*\"suggestion\"'),\n",
      " (115,\n",
      "  '0.206*\"neuronal_death\" + 0.109*\"mediating\" + 0.096*\"restored\" + '\n",
      "  '0.049*\"death\" + 0.041*\"induced\" + 0.038*\"protect_neurons\" + '\n",
      "  '0.038*\"clinically_relevant\" + 0.035*\"attenuated\" + 0.026*\"neurons\" + '\n",
      "  '0.026*\"caused\"'),\n",
      " (367,\n",
      "  '0.153*\"delivery\" + 0.085*\"rodents\" + 0.077*\"circulating\" + '\n",
      "  '0.074*\"transduction\" + 0.052*\"vector\" + 0.045*\"transduced\" + '\n",
      "  '0.041*\"gene_transfer\" + 0.032*\"achieve\" + 0.031*\"offers\" + '\n",
      "  '0.026*\"naturally_occurring\"'),\n",
      " (208,\n",
      "  '0.432*\"neurons\" + 0.305*\"glia\" + 0.018*\"purpose_study\" + 0.017*\"cultured\" + '\n",
      "  '0.017*\"-dependent\" + 0.016*\"X\" + 0.014*\"contrast\" + '\n",
      "  '0.011*\"potential_target\" + 0.009*\"Drosophila\" + 0.008*\"disrupts\"'),\n",
      " (328,\n",
      "  '0.179*\"MSCs\" + 0.075*\"MSC\" + 0.059*\"setting\" + 0.054*\"enable\" + '\n",
      "  '0.049*\"detail\" + 0.047*\"enables\" + 0.039*\"bone_morphogenetic\" + '\n",
      "  '0.037*\"inducer\" + 0.026*\"astrogenesis\" + 0.026*\"BMP4\"'),\n",
      " (469,\n",
      "  '0.105*\"pretreatment\" + 0.100*\"cytotoxicity\" + 0.073*\"protect\" + '\n",
      "  '0.068*\"Taken_results\" + 0.066*\"morphine\" + 0.059*\"donor\" + '\n",
      "  '0.056*\"non_neuronal\" + 0.054*\"protective_effects\" + 0.050*\"Sprague_Dawley\" '\n",
      "  '+ 0.047*\"effects\"'),\n",
      " (287,\n",
      "  '0.165*\"drug\" + 0.143*\"effective\" + 0.131*\"drugs\" + 0.068*\"strategy\" + '\n",
      "  '0.054*\"slow\" + 0.036*\"intervention\" + 0.028*\"potential\" + 0.022*\"use\" + '\n",
      "  '0.018*\"effectiveness\" + 0.018*\"electrodes\"'),\n",
      " (407,\n",
      "  '0.111*\"reactivity\" + 0.077*\"microtubule_associated\" + 0.062*\"continued\" + '\n",
      "  '0.061*\"NF\" + 0.060*\"synaptophysin\" + 0.057*\"Notably\" + 0.050*\"low_affinity\" '\n",
      "  '+ 0.039*\"GA\" + 0.033*\"Early\" + 0.029*\"superficial\"'),\n",
      " (158,\n",
      "  '0.280*\"BDNF\" + 0.128*\"derived_neurotrophic\" + 0.077*\"brain\" + '\n",
      "  '0.070*\"factor_BDNF\" + 0.047*\"preservation\" + 0.030*\"border\" + '\n",
      "  '0.029*\"increased\" + 0.024*\"TrkB\" + 0.018*\"neurons\" + 0.016*\"effect\"'),\n",
      " (501,\n",
      "  '0.100*\"explore\" + 0.099*\"evidenced\" + 0.069*\"estrogen\" + '\n",
      "  '0.067*\"maintaining\" + 0.051*\"immunolabeling\" + 0.043*\"transgene_expression\" '\n",
      "  '+ 0.039*\"Induction\" + 0.037*\"intracranial\" + 0.033*\"monkeys\" + '\n",
      "  '0.032*\"distant\"'),\n",
      " (181,\n",
      "  '0.188*\"time_course\" + 0.082*\"MK-801\" + 0.077*\"extent\" + '\n",
      "  '0.075*\"accompanying\" + 0.074*\"h_post\" + 0.060*\"KCl\" + '\n",
      "  '0.032*\"spreading_depression\" + 0.027*\"P2Y_receptor\" + 0.026*\"fell\" + '\n",
      "  '0.025*\"rose\"'),\n",
      " (254,\n",
      "  '0.138*\"exogenous\" + 0.078*\"partly\" + 0.078*\"accumulated\" + '\n",
      "  '0.074*\"cytosolic\" + 0.068*\"pyruvate\" + 0.065*\"conversion\" + 0.045*\"cytosol\" '\n",
      "  '+ 0.035*\"connected\" + 0.034*\"alanine\" + 0.028*\"Activated\"'),\n",
      " (556,\n",
      "  '0.168*\"expression\" + 0.082*\"mRNA_protein\" + 0.076*\"RT_PCR\" + 0.055*\"cells\" '\n",
      "  '+ 0.047*\"levels\" + 0.033*\"protein\" + 0.032*\"detected\" + 0.023*\"IL-1beta\" + '\n",
      "  '0.021*\"regulated\" + 0.019*\"rat\"'),\n",
      " (451,\n",
      "  '0.207*\"receptor\" + 0.084*\"mediated\" + 0.049*\"G_protein\" + '\n",
      "  '0.031*\"presence_absence\" + 0.029*\"consisted\" + 0.026*\"activated\" + '\n",
      "  '0.025*\"ineffective\" + 0.024*\"dependent\" + 0.019*\"activation\" + '\n",
      "  '0.016*\"coordinated\"'),\n",
      " (639,\n",
      "  '0.210*\"damage\" + 0.152*\"striatal\" + 0.052*\"ischemic_stroke\" + 0.051*\"brain\" '\n",
      "  '+ 0.048*\"following\" + 0.045*\"response\" + 0.039*\"partial\" + '\n",
      "  '0.037*\"excitotoxic\" + 0.034*\"messenger_RNA\" + 0.019*\"peri_infarct\"'),\n",
      " (238,\n",
      "  '0.143*\"relatively\" + 0.063*\"organelles\" + 0.060*\"inner\" + 0.058*\"se\" + '\n",
      "  '0.055*\"Rho\" + 0.037*\"scrapie\" + 0.033*\"electron_dense\" + 0.029*\"reticulum\" '\n",
      "  '+ 0.028*\"vacuoles\" + 0.022*\"A(2A_receptor\"')]\n"
     ]
    }
   ],
   "source": [
    "# Manual selection of the optimal model\n",
    "optimal_model = model_list[7]\n",
    "model_topics = optimal_model.show_topics(formatted=False)\n",
    "pprint(optimal_model.print_topics(num_words=10))"
   ]
  },
  {
   "cell_type": "markdown",
   "metadata": {},
   "source": [
    "### What is the dominant topic per article?"
   ]
  },
  {
   "cell_type": "code",
   "execution_count": 176,
   "metadata": {},
   "outputs": [
    {
     "name": "stdout",
     "output_type": "stream",
     "text": [
      "CPU times: user 11min 25s, sys: 2.89 s, total: 11min 28s\n",
      "Wall time: 11min 28s\n"
     ]
    },
    {
     "data": {
      "text/html": [
       "<div>\n",
       "<style scoped>\n",
       "    .dataframe tbody tr th:only-of-type {\n",
       "        vertical-align: middle;\n",
       "    }\n",
       "\n",
       "    .dataframe tbody tr th {\n",
       "        vertical-align: top;\n",
       "    }\n",
       "\n",
       "    .dataframe thead th {\n",
       "        text-align: right;\n",
       "    }\n",
       "</style>\n",
       "<table border=\"1\" class=\"dataframe\">\n",
       "  <thead>\n",
       "    <tr style=\"text-align: right;\">\n",
       "      <th></th>\n",
       "      <th>Document_No</th>\n",
       "      <th>Dominant_Topic</th>\n",
       "      <th>Topic_Perc_Contrib</th>\n",
       "      <th>Keywords</th>\n",
       "      <th>Text</th>\n",
       "    </tr>\n",
       "  </thead>\n",
       "  <tbody>\n",
       "    <tr>\n",
       "      <td>0</td>\n",
       "      <td>0</td>\n",
       "      <td>5.0</td>\n",
       "      <td>0.3595</td>\n",
       "      <td>brain, immunoreactivity, reactive, expression,...</td>\n",
       "      <td>There is literature evidence that both growth ...</td>\n",
       "    </tr>\n",
       "    <tr>\n",
       "      <td>1</td>\n",
       "      <td>1</td>\n",
       "      <td>13.0</td>\n",
       "      <td>0.5223</td>\n",
       "      <td>glutamate, neurons, cells, cultures, effect, a...</td>\n",
       "      <td>Separate exposure of organotypic cultures, der...</td>\n",
       "    </tr>\n",
       "    <tr>\n",
       "      <td>2</td>\n",
       "      <td>2</td>\n",
       "      <td>13.0</td>\n",
       "      <td>0.3064</td>\n",
       "      <td>glutamate, neurons, cells, cultures, effect, a...</td>\n",
       "      <td>Cells from primary rat astrocyte cultures expr...</td>\n",
       "    </tr>\n",
       "    <tr>\n",
       "      <td>3</td>\n",
       "      <td>3</td>\n",
       "      <td>13.0</td>\n",
       "      <td>0.2965</td>\n",
       "      <td>glutamate, neurons, cells, cultures, effect, a...</td>\n",
       "      <td>Rat cortical cells were incubated with the Scr...</td>\n",
       "    </tr>\n",
       "    <tr>\n",
       "      <td>4</td>\n",
       "      <td>4</td>\n",
       "      <td>1.0</td>\n",
       "      <td>0.4246</td>\n",
       "      <td>cells, cell,  , neurons, differentiation, glia...</td>\n",
       "      <td>In order to gain a more complete understanding...</td>\n",
       "    </tr>\n",
       "    <tr>\n",
       "      <td>5</td>\n",
       "      <td>5</td>\n",
       "      <td>1.0</td>\n",
       "      <td>0.3842</td>\n",
       "      <td>cells, cell,  , neurons, differentiation, glia...</td>\n",
       "      <td>Mammalian central nervous system neurons do no...</td>\n",
       "    </tr>\n",
       "    <tr>\n",
       "      <td>6</td>\n",
       "      <td>6</td>\n",
       "      <td>7.0</td>\n",
       "      <td>0.5485</td>\n",
       "      <td>cells, expression, CNS, brain, central_nervous...</td>\n",
       "      <td>Transforming growth factor-beta (TGF-beta) has...</td>\n",
       "    </tr>\n",
       "    <tr>\n",
       "      <td>7</td>\n",
       "      <td>7</td>\n",
       "      <td>7.0</td>\n",
       "      <td>0.8502</td>\n",
       "      <td>cells, expression, CNS, brain, central_nervous...</td>\n",
       "      <td>A fundamental issue in the etiology of autoimm...</td>\n",
       "    </tr>\n",
       "    <tr>\n",
       "      <td>8</td>\n",
       "      <td>8</td>\n",
       "      <td>5.0</td>\n",
       "      <td>0.6279</td>\n",
       "      <td>brain, immunoreactivity, reactive, expression,...</td>\n",
       "      <td>Irradiation in the presence of a dye applied t...</td>\n",
       "    </tr>\n",
       "    <tr>\n",
       "      <td>9</td>\n",
       "      <td>9</td>\n",
       "      <td>11.0</td>\n",
       "      <td>0.3258</td>\n",
       "      <td>activation, induced, expression, microglia, TN...</td>\n",
       "      <td>The reverse transcription and polymerase chain...</td>\n",
       "    </tr>\n",
       "  </tbody>\n",
       "</table>\n",
       "</div>"
      ],
      "text/plain": [
       "   Document_No  Dominant_Topic  Topic_Perc_Contrib  \\\n",
       "0            0             5.0              0.3595   \n",
       "1            1            13.0              0.5223   \n",
       "2            2            13.0              0.3064   \n",
       "3            3            13.0              0.2965   \n",
       "4            4             1.0              0.4246   \n",
       "5            5             1.0              0.3842   \n",
       "6            6             7.0              0.5485   \n",
       "7            7             7.0              0.8502   \n",
       "8            8             5.0              0.6279   \n",
       "9            9            11.0              0.3258   \n",
       "\n",
       "                                            Keywords  \\\n",
       "0  brain, immunoreactivity, reactive, expression,...   \n",
       "1  glutamate, neurons, cells, cultures, effect, a...   \n",
       "2  glutamate, neurons, cells, cultures, effect, a...   \n",
       "3  glutamate, neurons, cells, cultures, effect, a...   \n",
       "4  cells, cell,  , neurons, differentiation, glia...   \n",
       "5  cells, cell,  , neurons, differentiation, glia...   \n",
       "6  cells, expression, CNS, brain, central_nervous...   \n",
       "7  cells, expression, CNS, brain, central_nervous...   \n",
       "8  brain, immunoreactivity, reactive, expression,...   \n",
       "9  activation, induced, expression, microglia, TN...   \n",
       "\n",
       "                                                Text  \n",
       "0  There is literature evidence that both growth ...  \n",
       "1  Separate exposure of organotypic cultures, der...  \n",
       "2  Cells from primary rat astrocyte cultures expr...  \n",
       "3  Rat cortical cells were incubated with the Scr...  \n",
       "4  In order to gain a more complete understanding...  \n",
       "5  Mammalian central nervous system neurons do no...  \n",
       "6  Transforming growth factor-beta (TGF-beta) has...  \n",
       "7  A fundamental issue in the etiology of autoimm...  \n",
       "8  Irradiation in the presence of a dye applied t...  \n",
       "9  The reverse transcription and polymerase chain...  "
      ]
     },
     "execution_count": 176,
     "metadata": {},
     "output_type": "execute_result"
    }
   ],
   "source": [
    "%%time\n",
    "def format_topics_sentences(ldamodel=ldamodel, corpus=corpus, texts=data):\n",
    "    # Init output\n",
    "    sent_topics_df = pd.DataFrame()\n",
    "\n",
    "    # Get main topic in each document\n",
    "    for i, row in enumerate(ldamodel[corpus]):\n",
    "        row = sorted(row, key=lambda x: (x[1]), reverse=True)\n",
    "        # Get the Dominant topic, Perc Contribution and Keywords for each document\n",
    "        for j, (topic_num, prop_topic) in enumerate(row):\n",
    "            if j == 0:  # => dominant topic\n",
    "                wp = ldamodel.show_topic(topic_num)\n",
    "                topic_keywords = \", \".join([word for word, prop in wp])\n",
    "                sent_topics_df = sent_topics_df.append(pd.Series([int(topic_num), round(prop_topic,4), topic_keywords]), ignore_index=True)\n",
    "            else:\n",
    "                break\n",
    "    sent_topics_df.columns = ['Dominant_Topic', 'Perc_Contribution', 'Topic_Keywords']\n",
    "\n",
    "    # Add original text to the end of the output\n",
    "    contents = pd.Series(texts)\n",
    "    sent_topics_df = pd.concat([sent_topics_df, contents], axis=1)\n",
    "    return(sent_topics_df)\n",
    "\n",
    "\n",
    "df_topic_sents_keywords = format_topics_sentences(ldamodel=optimal_model, corpus=corpus, texts=abstracts)\n",
    "\n",
    "# Format\n",
    "df_dominant_topic = df_topic_sents_keywords.reset_index()\n",
    "df_dominant_topic.columns = ['Document_No', 'Dominant_Topic', 'Topic_Perc_Contrib', 'Keywords', 'Text']\n",
    "\n",
    "# Show\n",
    "df_dominant_topic.head(10)"
   ]
  },
  {
   "cell_type": "code",
   "execution_count": 96,
   "metadata": {},
   "outputs": [],
   "source": [
    "# Chekpoint\n",
    "filepath = '/jupyter/carlos/TM_astrocytes/dfs.pkl'\n",
    "\n",
    "di = {'df_topic_sents':df_topic_sents_keywords, 'df_dominant': df_dominant_topic}\n",
    "\n",
    "with open(filepath, 'wb') as handle:\n",
    "    pickle.dump(di, handle, protocol=pickle.HIGHEST_PROTOCOL)"
   ]
  },
  {
   "cell_type": "markdown",
   "metadata": {},
   "source": [
    "### Topic by year"
   ]
  },
  {
   "cell_type": "code",
   "execution_count": 177,
   "metadata": {},
   "outputs": [
    {
     "data": {
      "text/html": [
       "<div>\n",
       "<style scoped>\n",
       "    .dataframe tbody tr th:only-of-type {\n",
       "        vertical-align: middle;\n",
       "    }\n",
       "\n",
       "    .dataframe tbody tr th {\n",
       "        vertical-align: top;\n",
       "    }\n",
       "\n",
       "    .dataframe thead th {\n",
       "        text-align: right;\n",
       "    }\n",
       "</style>\n",
       "<table border=\"1\" class=\"dataframe\">\n",
       "  <thead>\n",
       "    <tr style=\"text-align: right;\">\n",
       "      <th></th>\n",
       "      <th>Dominant_Topic</th>\n",
       "      <th>year</th>\n",
       "    </tr>\n",
       "  </thead>\n",
       "  <tbody>\n",
       "    <tr>\n",
       "      <td>0</td>\n",
       "      <td>5.0</td>\n",
       "      <td>1993</td>\n",
       "    </tr>\n",
       "    <tr>\n",
       "      <td>1</td>\n",
       "      <td>13.0</td>\n",
       "      <td>1993</td>\n",
       "    </tr>\n",
       "    <tr>\n",
       "      <td>2</td>\n",
       "      <td>13.0</td>\n",
       "      <td>1993</td>\n",
       "    </tr>\n",
       "    <tr>\n",
       "      <td>3</td>\n",
       "      <td>13.0</td>\n",
       "      <td>1993</td>\n",
       "    </tr>\n",
       "    <tr>\n",
       "      <td>4</td>\n",
       "      <td>1.0</td>\n",
       "      <td>1993</td>\n",
       "    </tr>\n",
       "    <tr>\n",
       "      <td>...</td>\n",
       "      <td>...</td>\n",
       "      <td>...</td>\n",
       "    </tr>\n",
       "    <tr>\n",
       "      <td>59060</td>\n",
       "      <td>1.0</td>\n",
       "      <td>2004</td>\n",
       "    </tr>\n",
       "    <tr>\n",
       "      <td>59061</td>\n",
       "      <td>1.0</td>\n",
       "      <td>2004</td>\n",
       "    </tr>\n",
       "    <tr>\n",
       "      <td>59062</td>\n",
       "      <td>5.0</td>\n",
       "      <td>2004</td>\n",
       "    </tr>\n",
       "    <tr>\n",
       "      <td>59063</td>\n",
       "      <td>11.0</td>\n",
       "      <td>2004</td>\n",
       "    </tr>\n",
       "    <tr>\n",
       "      <td>59064</td>\n",
       "      <td>3.0</td>\n",
       "      <td>2004</td>\n",
       "    </tr>\n",
       "  </tbody>\n",
       "</table>\n",
       "<p>59065 rows × 2 columns</p>\n",
       "</div>"
      ],
      "text/plain": [
       "       Dominant_Topic  year\n",
       "0                 5.0  1993\n",
       "1                13.0  1993\n",
       "2                13.0  1993\n",
       "3                13.0  1993\n",
       "4                 1.0  1993\n",
       "...               ...   ...\n",
       "59060             1.0  2004\n",
       "59061             1.0  2004\n",
       "59062             5.0  2004\n",
       "59063            11.0  2004\n",
       "59064             3.0  2004\n",
       "\n",
       "[59065 rows x 2 columns]"
      ]
     },
     "execution_count": 177,
     "metadata": {},
     "output_type": "execute_result"
    }
   ],
   "source": [
    "df_dominant_topic['year'] = df.year.str.strip('{}').astype(int)\n",
    "df_years = pd.concat([df_dominant_topic.Dominant_Topic,df_dominant_topic.year], axis=1)\n",
    "df_years\n"
   ]
  },
  {
   "cell_type": "code",
   "execution_count": 178,
   "metadata": {},
   "outputs": [
    {
     "data": {
      "text/plain": [
       "[array([1., 0., 0., 0., 0., 0., 0., 0., 0., 0., 0., 0., 0., 0.]),\n",
       " array([2., 0., 0., 0., 0., 0., 0., 0., 0., 0., 0., 0., 0., 0.]),\n",
       " array([1., 0., 0., 0., 0., 0., 0., 0., 0., 0., 0., 0., 0., 0.]),\n",
       " array([1., 0., 0., 0., 0., 0., 0., 0., 0., 0., 0., 0., 0., 0.]),\n",
       " array([1., 0., 0., 0., 0., 0., 0., 0., 0., 0., 0., 0., 0., 0.]),\n",
       " array([3., 0., 0., 0., 0., 0., 0., 0., 0., 0., 0., 0., 0., 0.]),\n",
       " array([3., 0., 0., 0., 0., 0., 0., 0., 0., 0., 0., 0., 0., 0.]),\n",
       " array([4., 0., 0., 0., 0., 0., 0., 0., 0., 0., 0., 0., 0., 0.]),\n",
       " array([2., 0., 0., 0., 0., 0., 0., 0., 0., 0., 0., 0., 0., 0.]),\n",
       " array([4., 0., 0., 0., 0., 0., 0., 0., 0., 0., 0., 0., 0., 0.]),\n",
       " array([8., 0., 0., 0., 0., 0., 0., 0., 0., 0., 0., 0., 0., 0.]),\n",
       " array([5., 0., 0., 0., 0., 0., 0., 0., 0., 0., 0., 0., 0., 0.]),\n",
       " array([9., 0., 0., 0., 0., 0., 0., 0., 0., 0., 0., 0., 0., 0.]),\n",
       " array([3., 0., 0., 0., 0., 0., 0., 0., 0., 0., 0., 0., 0., 0.]),\n",
       " array([6., 0., 0., 0., 0., 0., 0., 0., 0., 0., 0., 0., 0., 0.]),\n",
       " array([10.,  0.,  0.,  0.,  0.,  0.,  0.,  0.,  0.,  0.,  0.,  0.,  0.,\n",
       "         0.]),\n",
       " array([12.,  0.,  0.,  0.,  0.,  0.,  0.,  0.,  0.,  0.,  0.,  0.,  0.,\n",
       "         0.]),\n",
       " array([20.,  0.,  0.,  0.,  0.,  0.,  0.,  0.,  0.,  0.,  0.,  0.,  0.,\n",
       "         0.]),\n",
       " array([16.,  0.,  0.,  0.,  0.,  0.,  0.,  0.,  0.,  0.,  0.,  0.,  0.,\n",
       "         0.]),\n",
       " array([13.,  0.,  0.,  0.,  0.,  0.,  0.,  0.,  0.,  0.,  0.,  0.,  0.,\n",
       "         0.]),\n",
       " array([20.,  0.,  0.,  0.,  0.,  0.,  0.,  0.,  0.,  0.,  0.,  0.,  0.,\n",
       "         0.]),\n",
       " array([21.,  0.,  0.,  0.,  0.,  0.,  0.,  0.,  0.,  0.,  0.,  0.,  0.,\n",
       "         0.]),\n",
       " array([25.,  0.,  0.,  0.,  0.,  0.,  0.,  0.,  0.,  0.,  0.,  0.,  0.,\n",
       "         0.]),\n",
       " array([22.,  0.,  0.,  0.,  0.,  0.,  0.,  0.,  0.,  0.,  0.,  0.,  0.,\n",
       "         0.]),\n",
       " array([38.,  0.,  0.,  0.,  0.,  1.,  0.,  0.,  0.,  0.,  0.,  0.,  0.,\n",
       "         0.]),\n",
       " array([39.,  0.,  0.,  0.,  0.,  0.,  0.,  0.,  0.,  0.,  0.,  0.,  0.,\n",
       "         0.]),\n",
       " array([45.,  0.,  0.,  0.,  0.,  0.,  0.,  0.,  0.,  0.,  0.,  0.,  0.,\n",
       "         0.]),\n",
       " array([58.,  0.,  0.,  0.,  0.,  0.,  0.,  0.,  0.,  0.,  0.,  0.,  0.,\n",
       "         0.]),\n",
       " array([61.,  0.,  0.,  0.,  0.,  0.,  0.,  0.,  0.,  0.,  0.,  0.,  0.,\n",
       "         0.]),\n",
       " array([88.,  0.,  0.,  0.,  0.,  0.,  0.,  0.,  0.,  0.,  0.,  0.,  0.,\n",
       "         0.]),\n",
       " array([121.,   0.,   0.,   0.,   0.,   0.,   0.,   0.,   0.,   0.,   0.,\n",
       "          0.,   0.,   0.]),\n",
       " array([172.,   0.,   0.,   0.,   0.,   0.,   0.,   0.,   0.,   0.,   0.,\n",
       "          0.,   0.,   0.]),\n",
       " array([182.,   0.,   0.,   0.,   0.,   0.,   0.,   0.,   0.,   0.,   0.,\n",
       "          0.,   0.,   0.]),\n",
       " array([210.,   0.,   0.,   0.,   0.,   0.,   0.,   0.,   0.,   0.,   0.,\n",
       "          0.,   0.,   0.]),\n",
       " array([198.,   0.,   0.,   0.,   0.,   1.,   0.,   0.,   0.,   0.,   0.,\n",
       "          0.,   0.,   0.]),\n",
       " array([174.,   2.,   0.,   0.,   1.,   6.,   0.,   1.,   1.,   4.,   0.,\n",
       "          0.,   0.,   1.]),\n",
       " array([ 88., 147.,   0.,   7.,  52.,  85.,   7.,  52.,  25.,  18.,   0.,\n",
       "          5.,   3.,  69.]),\n",
       " array([188., 220.,   0.,  19., 102., 193.,  15., 102.,  52.,  34.,   0.,\n",
       "         14.,   9., 157.]),\n",
       " array([212., 175.,   1.,  31., 109., 224.,  29., 102.,  67.,  36.,   0.,\n",
       "         26.,  10., 155.]),\n",
       " array([138., 122.,   0.,  31.,  81., 164.,  14.,  88.,  49.,  29.,   0.,\n",
       "         20.,  11., 114.]),\n",
       " array([154., 245.,   0.,  49., 117., 255.,  28., 161.,  83.,  34.,   0.,\n",
       "         43.,  18., 173.]),\n",
       " array([158., 135.,   1.,  41.,  86., 152.,  27., 109.,  62.,  33.,   0.,\n",
       "         31.,  14., 129.]),\n",
       " array([190., 235.,   1.,  71., 159., 273.,  39., 195., 119.,  60.,   0.,\n",
       "         58.,  16., 220.]),\n",
       " array([215., 179.,   0.,  85., 169., 249.,  42., 217.,  96.,  78.,   0.,\n",
       "         68.,   7., 192.]),\n",
       " array([202., 212.,   1.,  97., 130., 249.,  45., 212., 130.,  74.,   0.,\n",
       "         89.,  25., 195.]),\n",
       " array([200., 206.,   1., 144., 181., 243.,  51., 188., 122.,  99.,   0.,\n",
       "         96.,  32., 178.]),\n",
       " array([213., 217.,   3., 152., 155., 213.,  51., 185., 106.,  94.,   0.,\n",
       "        112.,  40., 175.]),\n",
       " array([347., 267.,   1., 208., 175., 273.,  72., 266., 138., 165.,   1.,\n",
       "        128.,  39., 194.]),\n",
       " array([284., 256.,   0., 140., 160., 187.,  47., 217., 129., 134.,   0.,\n",
       "        119.,  36., 143.]),\n",
       " array([301., 262.,   0., 185., 188., 188.,  67., 202., 158., 172.,   0.,\n",
       "        113.,  31., 116.]),\n",
       " array([226., 282.,   1., 208., 172., 146.,  50., 215., 156., 153.,   0.,\n",
       "        141.,  32., 122.]),\n",
       " array([296., 335.,   1., 200., 193., 172.,  65., 227., 163., 177.,   0.,\n",
       "        126.,  30., 125.]),\n",
       " array([362., 303.,   0., 253., 185., 171.,  56., 222., 158., 242.,   0.,\n",
       "        123.,  47., 115.]),\n",
       " array([263., 305.,   0., 244., 177., 151.,  55., 254., 191., 216.,   0.,\n",
       "        161.,  36.,  99.]),\n",
       " array([488., 319.,   0., 255., 173., 168.,  60., 217., 229., 232.,   0.,\n",
       "        137.,  36.,  82.]),\n",
       " array([357., 356.,   1., 282., 193., 148.,  63., 231., 245., 276.,   0.,\n",
       "        170.,  35.,  88.]),\n",
       " array([463., 347.,   0., 327., 207., 146.,  83., 305., 250., 271.,   0.,\n",
       "        186.,  55., 106.]),\n",
       " array([341., 355.,   0., 334., 225., 121.,  76., 320., 289., 358.,   0.,\n",
       "        211.,  42.,  79.]),\n",
       " array([490., 373.,   1., 384., 200., 141.,  92., 331., 319., 390.,   0.,\n",
       "        201.,  54.,  63.]),\n",
       " array([376., 324.,   1., 397., 208., 119.,  72., 330., 298., 427.,   0.,\n",
       "        193.,  47.,  72.]),\n",
       " array([495., 356.,   0., 404., 169., 121.,  76., 351., 288., 474.,   0.,\n",
       "        197.,  58.,  75.]),\n",
       " array([419., 345.,   0., 412., 192., 115.,  76., 319., 357., 565.,   0.,\n",
       "        230.,  74.,  76.]),\n",
       " array([558., 334.,   0., 464., 185., 130.,  80., 380., 390., 539.,   0.,\n",
       "        239.,  70.,  70.]),\n",
       " array([341., 283.,   1., 379., 123.,  80.,  58., 277., 314., 472.,   0.,\n",
       "        203.,  55.,  36.]),\n",
       " array([0., 0., 0., 0., 0., 0., 0., 0., 0., 0., 0., 1., 0., 0.])]"
      ]
     },
     "execution_count": 178,
     "metadata": {},
     "output_type": "execute_result"
    }
   ],
   "source": [
    "years = np.sort(df_years.year.unique())\n",
    "topics = np.unique(df_years.Dominant_Topic).astype(np.int8)\n",
    "\n",
    "uniqs =[]\n",
    "for i in years:\n",
    "    tops = df_years[df_years.year==i]\n",
    "    zeros = np.zeros(np.shape(topics))\n",
    "    uniq = np.unique(tops.Dominant_Topic, return_counts=True)\n",
    "    for i, k in enumerate(uniq[0]):\n",
    "        zeros[int(k)] = uniq[1][i]\n",
    "        \n",
    "    uniqs.append(zeros)\n"
   ]
  },
  {
   "cell_type": "code",
   "execution_count": 179,
   "metadata": {},
   "outputs": [
    {
     "data": {
      "text/plain": [
       "<matplotlib.axes._subplots.AxesSubplot at 0x7fdd38b32fd0>"
      ]
     },
     "execution_count": 179,
     "metadata": {},
     "output_type": "execute_result"
    },
    {
     "data": {
      "text/plain": [
       "<Figure size 1440x720 with 0 Axes>"
      ]
     },
     "metadata": {},
     "output_type": "display_data"
    },
    {
     "data": {
      "image/png": "[encoded data removed]",
      "text/plain": [
       "<Figure size 1440x1080 with 1 Axes>"
      ]
     },
     "metadata": {},
     "output_type": "display_data"
    }
   ],
   "source": [
    "plt.figure(figsize=(20,10))\n",
    "sns.set(style=\"darkgrid\")\n",
    "\n",
    "df_years_count = pd.DataFrame(uniqs, columns =topics, index=years)\n",
    "\n",
    "#plt.figure(figsize=(20,10))\n",
    "df_years_count.plot.line(figsize=(20,15))\n"
   ]
  },
  {
   "cell_type": "code",
   "execution_count": 199,
   "metadata": {},
   "outputs": [
    {
     "data": {
      "text/plain": [
       "<matplotlib.axes._subplots.AxesSubplot at 0x7fdd37b949d0>"
      ]
     },
     "execution_count": 199,
     "metadata": {},
     "output_type": "execute_result"
    },
    {
     "data": {
      "image/png": "[encoded data removed]",
      "text/plain": [
       "<Figure size 1440x1080 with 1 Axes>"
      ]
     },
     "metadata": {},
     "output_type": "display_data"
    }
   ],
   "source": [
    "df_years_count[13].plot.line(figsize=(20,15))\n"
   ]
  },
  {
   "cell_type": "markdown",
   "metadata": {},
   "source": [
    "### What is the most representative article per topic?"
   ]
  },
  {
   "cell_type": "code",
   "execution_count": 180,
   "metadata": {},
   "outputs": [
    {
     "name": "stdout",
     "output_type": "stream",
     "text": [
      "CPU times: user 62.2 ms, sys: 13.8 ms, total: 76 ms\n",
      "Wall time: 73.6 ms\n"
     ]
    },
    {
     "data": {
      "text/html": [
       "<div>\n",
       "<style scoped>\n",
       "    .dataframe tbody tr th:only-of-type {\n",
       "        vertical-align: middle;\n",
       "    }\n",
       "\n",
       "    .dataframe tbody tr th {\n",
       "        vertical-align: top;\n",
       "    }\n",
       "\n",
       "    .dataframe thead th {\n",
       "        text-align: right;\n",
       "    }\n",
       "</style>\n",
       "<table border=\"1\" class=\"dataframe\">\n",
       "  <thead>\n",
       "    <tr style=\"text-align: right;\">\n",
       "      <th></th>\n",
       "      <th>Topic_Num</th>\n",
       "      <th>Topic_Perc_Contrib</th>\n",
       "      <th>Keywords</th>\n",
       "      <th>Text</th>\n",
       "    </tr>\n",
       "  </thead>\n",
       "  <tbody>\n",
       "    <tr>\n",
       "      <td>0</td>\n",
       "      <td>0.0</td>\n",
       "      <td>0.9040</td>\n",
       "      <td>mice, AD, brain, Alzheimer_disease, associated...</td>\n",
       "      <td>K. Seidel, J. Vinet, W. F. A. den Dunnen, E. R...</td>\n",
       "    </tr>\n",
       "    <tr>\n",
       "      <td>1</td>\n",
       "      <td>1.0</td>\n",
       "      <td>0.9919</td>\n",
       "      <td>cells, cell,  , neurons, differentiation, glia...</td>\n",
       "      <td>The isolation, culturing and expansion of huma...</td>\n",
       "    </tr>\n",
       "    <tr>\n",
       "      <td>2</td>\n",
       "      <td>2.0</td>\n",
       "      <td>0.5307</td>\n",
       "      <td>retinal, retina, GABA, Muller_cells, layer, hy...</td>\n",
       "      <td>We studied the cellular and subcellular distri...</td>\n",
       "    </tr>\n",
       "    <tr>\n",
       "      <td>3</td>\n",
       "      <td>3.0</td>\n",
       "      <td>0.9776</td>\n",
       "      <td>expression, induced, protein, levels, increase...</td>\n",
       "      <td>Expression of astrocyte-elevated gene-1 (AEG-1...</td>\n",
       "    </tr>\n",
       "    <tr>\n",
       "      <td>4</td>\n",
       "      <td>4.0</td>\n",
       "      <td>0.9921</td>\n",
       "      <td>Ca2_+, cells, receptors, activity, ATP, releas...</td>\n",
       "      <td>Perisynaptic Schwann cells (PSCs) play critica...</td>\n",
       "    </tr>\n",
       "    <tr>\n",
       "      <td>5</td>\n",
       "      <td>5.0</td>\n",
       "      <td>0.9871</td>\n",
       "      <td>brain, immunoreactivity, reactive, expression,...</td>\n",
       "      <td>The pathologic correlates of increased signal ...</td>\n",
       "    </tr>\n",
       "    <tr>\n",
       "      <td>6</td>\n",
       "      <td>6.0</td>\n",
       "      <td>0.9412</td>\n",
       "      <td>beta, neurons, alpha, protein, microglia, neur...</td>\n",
       "      <td>We have previously shown that the uptake and t...</td>\n",
       "    </tr>\n",
       "    <tr>\n",
       "      <td>7</td>\n",
       "      <td>7.0</td>\n",
       "      <td>0.9855</td>\n",
       "      <td>cells, expression, CNS, brain, central_nervous...</td>\n",
       "      <td>An important role for CX(3)CL1 in neuroinflamm...</td>\n",
       "    </tr>\n",
       "    <tr>\n",
       "      <td>8</td>\n",
       "      <td>8.0</td>\n",
       "      <td>0.9621</td>\n",
       "      <td>injury, GFAP, rats, days, brain, group, increa...</td>\n",
       "      <td>We used the Bennett and Xie (1988) model of ch...</td>\n",
       "    </tr>\n",
       "    <tr>\n",
       "      <td>9</td>\n",
       "      <td>9.0</td>\n",
       "      <td>0.9867</td>\n",
       "      <td>brain, neurons, neuronal, function, glial, rol...</td>\n",
       "      <td>In this paper we demonstrate that retrograde s...</td>\n",
       "    </tr>\n",
       "    <tr>\n",
       "      <td>10</td>\n",
       "      <td>10.0</td>\n",
       "      <td>0.2826</td>\n",
       "      <td>Glu, SD, AA, ICAM-1, melatonin, RAGE, JCV, cop...</td>\n",
       "      <td>The human polyomavirus JC virus (JCV) is the e...</td>\n",
       "    </tr>\n",
       "    <tr>\n",
       "      <td>11</td>\n",
       "      <td>11.0</td>\n",
       "      <td>0.9869</td>\n",
       "      <td>activation, induced, expression, microglia, TN...</td>\n",
       "      <td>Astrocytes have the capacity to secrete or res...</td>\n",
       "    </tr>\n",
       "    <tr>\n",
       "      <td>12</td>\n",
       "      <td>12.0</td>\n",
       "      <td>0.7091</td>\n",
       "      <td>cells, tumor, glioma, cell_lines, growth, glio...</td>\n",
       "      <td>The Kruppel-like transcription factor KLF6 is ...</td>\n",
       "    </tr>\n",
       "    <tr>\n",
       "      <td>13</td>\n",
       "      <td>13.0</td>\n",
       "      <td>0.9806</td>\n",
       "      <td>glutamate, neurons, cells, cultures, effect, a...</td>\n",
       "      <td>We examined the effects of glutamate receptor ...</td>\n",
       "    </tr>\n",
       "  </tbody>\n",
       "</table>\n",
       "</div>"
      ],
      "text/plain": [
       "    Topic_Num  Topic_Perc_Contrib  \\\n",
       "0         0.0              0.9040   \n",
       "1         1.0              0.9919   \n",
       "2         2.0              0.5307   \n",
       "3         3.0              0.9776   \n",
       "4         4.0              0.9921   \n",
       "5         5.0              0.9871   \n",
       "6         6.0              0.9412   \n",
       "7         7.0              0.9855   \n",
       "8         8.0              0.9621   \n",
       "9         9.0              0.9867   \n",
       "10       10.0              0.2826   \n",
       "11       11.0              0.9869   \n",
       "12       12.0              0.7091   \n",
       "13       13.0              0.9806   \n",
       "\n",
       "                                             Keywords  \\\n",
       "0   mice, AD, brain, Alzheimer_disease, associated...   \n",
       "1   cells, cell,  , neurons, differentiation, glia...   \n",
       "2   retinal, retina, GABA, Muller_cells, layer, hy...   \n",
       "3   expression, induced, protein, levels, increase...   \n",
       "4   Ca2_+, cells, receptors, activity, ATP, releas...   \n",
       "5   brain, immunoreactivity, reactive, expression,...   \n",
       "6   beta, neurons, alpha, protein, microglia, neur...   \n",
       "7   cells, expression, CNS, brain, central_nervous...   \n",
       "8   injury, GFAP, rats, days, brain, group, increa...   \n",
       "9   brain, neurons, neuronal, function, glial, rol...   \n",
       "10  Glu, SD, AA, ICAM-1, melatonin, RAGE, JCV, cop...   \n",
       "11  activation, induced, expression, microglia, TN...   \n",
       "12  cells, tumor, glioma, cell_lines, growth, glio...   \n",
       "13  glutamate, neurons, cells, cultures, effect, a...   \n",
       "\n",
       "                                                 Text  \n",
       "0   K. Seidel, J. Vinet, W. F. A. den Dunnen, E. R...  \n",
       "1   The isolation, culturing and expansion of huma...  \n",
       "2   We studied the cellular and subcellular distri...  \n",
       "3   Expression of astrocyte-elevated gene-1 (AEG-1...  \n",
       "4   Perisynaptic Schwann cells (PSCs) play critica...  \n",
       "5   The pathologic correlates of increased signal ...  \n",
       "6   We have previously shown that the uptake and t...  \n",
       "7   An important role for CX(3)CL1 in neuroinflamm...  \n",
       "8   We used the Bennett and Xie (1988) model of ch...  \n",
       "9   In this paper we demonstrate that retrograde s...  \n",
       "10  The human polyomavirus JC virus (JCV) is the e...  \n",
       "11  Astrocytes have the capacity to secrete or res...  \n",
       "12  The Kruppel-like transcription factor KLF6 is ...  \n",
       "13  We examined the effects of glutamate receptor ...  "
      ]
     },
     "execution_count": 180,
     "metadata": {},
     "output_type": "execute_result"
    }
   ],
   "source": [
    "%%time\n",
    "# Group top 5 sentences under each topic\n",
    "sent_topics_sorteddf_mallet = pd.DataFrame()\n",
    "\n",
    "sent_topics_outdf_grpd = df_topic_sents_keywords.groupby('Dominant_Topic')\n",
    "\n",
    "for i, grp in sent_topics_outdf_grpd:\n",
    "    sent_topics_sorteddf_mallet = pd.concat([sent_topics_sorteddf_mallet, \n",
    "                                             grp.sort_values(['Perc_Contribution'], ascending=[0]).head(1)], \n",
    "                                            axis=0)\n",
    "\n",
    "# Reset Index    \n",
    "sent_topics_sorteddf_mallet.reset_index(drop=True, inplace=True)\n",
    "\n",
    "# Format\n",
    "sent_topics_sorteddf_mallet.columns = ['Topic_Num', \"Topic_Perc_Contrib\", \"Keywords\", \"Text\"]\n",
    "\n",
    "# Show\n",
    "sent_topics_sorteddf_mallet"
   ]
  },
  {
   "cell_type": "markdown",
   "metadata": {},
   "source": [
    "### Topic distribution accross documents"
   ]
  },
  {
   "cell_type": "code",
   "execution_count": 189,
   "metadata": {},
   "outputs": [
    {
     "name": "stdout",
     "output_type": "stream",
     "text": [
      "CPU times: user 28.9 ms, sys: 0 ns, total: 28.9 ms\n",
      "Wall time: 27 ms\n"
     ]
    },
    {
     "data": {
      "text/plain": [
       "0.0     9963\n",
       "1.0     7497\n",
       "2.0       15\n",
       "3.0     5803\n",
       "4.0     4467\n",
       "5.0     4885\n",
       "6.0     1496\n",
       "7.0     6276\n",
       "8.0     4984\n",
       "9.0     5856\n",
       "10.0       1\n",
       "11.0    3441\n",
       "12.0     962\n",
       "13.0    3419\n",
       "Name: Dominant_Topic, dtype: int64"
      ]
     },
     "execution_count": 189,
     "metadata": {},
     "output_type": "execute_result"
    }
   ],
   "source": [
    "%%time\n",
    "# Number of Documents for Each Topic\n",
    "topic_counts = df_topic_sents_keywords['Dominant_Topic'].value_counts()\n",
    "\n",
    "# Percentage of Documents for Each Topic\n",
    "topic_contribution = round(topic_counts/topic_counts.sum(), 4)\n",
    "\n",
    "# Topic Number and Keywords\n",
    "topic_num_keywords = df_topic_sents_keywords[['Dominant_Topic', 'Topic_Keywords']]\n",
    "\n",
    "# Concatenate Column wise\n",
    "df_dominant_topics = pd.concat([topic_num_keywords, topic_counts, topic_contribution], axis=1)\n",
    "\n",
    "# Change Column names\n",
    "df_dominant_topics.columns = ['Dominant_Topic', 'Topic_Keywords', 'Num_Documents', 'Perc_Documents']\n",
    "\n",
    "# Show\n",
    "#df_dominant_topics[0:14]\n",
    "topic_counts.sort_index()"
   ]
  },
  {
   "cell_type": "markdown",
   "metadata": {},
   "source": [
    "## Titles"
   ]
  },
  {
   "cell_type": "code",
   "execution_count": 14,
   "metadata": {},
   "outputs": [
    {
     "data": {
      "text/plain": [
       "['ULTRASTRUCTURAL EVIDENCE THAT MERCURIC-CHLORIDE LOWERS THE THRESHOLD FOR GLUTAMATE NEUROTOXICITY IN AN ORGANOTYPIC CULTURE OF RAT CEREBELLUM',\n",
       " 'ASTROCYTIC GLUCOSE-6-PHOSPHATASE AND THE PERMEABILITY OF BRAIN MICROSOMES TO GLUCOSE-6-PHOSPHATE',\n",
       " 'CYTOPROTECTIVE EFFECT OF NMDA RECEPTOR ANTAGONISTS ON PRION PROTEIN (PRION(SC))-INDUCED TOXICITY IN RAT CORTICAL CELL-CULTURES',\n",
       " 'EXPRESSION OF NEURONAL AND GLIAL POLYPEPTIDES DURING HISTOGENESIS OF THE HUMAN CEREBELLAR CORTEX INCLUDING OBSERVATIONS ON THE DENTATE NUCLEUS',\n",
       " 'CLONING AND CHARACTERISTICS OF FISH GLIAL FIBRILLARY ACIDIC PROTEIN - IMPLICATIONS FOR OPTIC-NERVE REGENERATION',\n",
       " 'TRANSFORMING GROWTH-FACTOR-BETA SUPPRESSES ACTIVATION AND PROLIFERATION OF MICROGLIA IN-VITRO',\n",
       " 'IN-VIVO ANTIGEN PRESENTATION BY BOTH BRAIN PARENCHYMAL-CELLS AND HEMATOPOIETICALLY DERIVED CELLS DURING THE INDUCTION OF EXPERIMENTAL AUTOIMMUNE ENCEPHALOMYELITIS',\n",
       " 'DYE-INDUCED PHOTOLESION IN THE MAMMALIAN RETINA - GLIAL AND NEURONAL REACTIONS',\n",
       " 'REVERSE TRANSCRIPTION AND POLYMERASE CHAIN-REACTION TECHNIQUE FOR QUANTIFICATION OF MESSENGER-RNA IN PRIMARY ASTROCYTE CULTURES',\n",
       " 'ESTABLISHMENT AND NEURITE OUTGROWTH PROPERTIES OF NEONATAL AND ADULT-RAT OLFACTORY-BULB GLIAL-CELL LINES',\n",
       " 'LOCALIZATION OF SULFATED GLYCOPROTEIN-2 CLUSTERIN MESSENGER-RNA IN THE RAT-BRAIN BY IN-SITU HYBRIDIZATION',\n",
       " 'GLUTATHIONE METABOLISM IN PRIMARY ASTROCYTE CULTURES - FLOW CYTOMETRIC EVIDENCE OF HETEROGENEOUS DISTRIBUTION OF GSH CONTENT',\n",
       " 'BUFFER CAPACITY OF RAT CORTICAL TISSUE AS WELL AS OF CULTURED NEURONS AND ASTROCYTES',\n",
       " 'HYPERAMMONEMIA AND HEPATIC-ENCEPHALOPATHY STIMULATE RAT CEREBRAL SYNAPTIC MITOCHONDRIAL GLUTAMATE-DEHYDROGENASE ACTIVITY SPECIFICALLY IN THE DIRECTION OF GLUTAMATE OXIDATION',\n",
       " 'GLUTAMATE UPTAKE AND GLUTAMATE CONTENT IN PRIMARY CULTURES OF MOUSE ASTROCYTES DURING ANOXIA, SUBSTRATE DEPRIVATION AND SIMULATED ISCHEMIA UNDER NORMOTHERMIC AND HYPOTHERMIC CONDITIONS',\n",
       " 'EFFECT OF REPEATED HYPERAMMONEMIA ON NA+-DEPENDENT BINDING OF GLUTAMATE IN RAT CORTICAL AND HIPPOCAMPAL SYNAPTIC-MEMBRANES',\n",
       " 'GLUTATHIONE, BUT NOT GLUTAMINE, IS DETECTED IN C-13-NMR SPECTRA OF PERCHLORIC-ACID EXTRACTS FROM C6 GLIOMA-CELLS',\n",
       " 'GFAP-SPECIFIC OLIGOCLONAL BANDS IN THE CSF OF A PATIENT WITH ACUTE MYELITIS',\n",
       " 'PENTOXIFYLLINE INHIBITS EXPERIMENTAL ALLERGIC ENCEPHALOMYELITIS',\n",
       " 'STRUCTURAL AND VASCULAR-PERMEABILITY ABNORMALITIES ASSOCIATED WITH LACUNES OF THE HUMAN BRAIN',\n",
       " 'WIDESPREAD DISTRIBUTION OF TAU IN THE ASTROCYTIC ELEMENTS OF GLIAL TUMORS',\n",
       " 'EFFECTS OF ETHANOL ON CULTURED FETAL ASTROGLIA',\n",
       " 'INTERLEUKIN-4 DOWN-REGULATES ADULT HUMAN ASTROCYTE DNA-SYNTHESIS AND PROLIFERATION',\n",
       " 'ALPHA-B-CRYSTALLIN AND 27-KD HEAT-SHOCK PROTEIN ARE REGULATED BY STRESS CONDITIONS IN THE CENTRAL-NERVOUS-SYSTEM AND ACCUMULATE IN ROSENTHAL FIBERS',\n",
       " 'CARRIER-MEDIATED TRANSPORT OF LACTIC-ACID IN CULTURED NEURONS AND ASTROCYTES',\n",
       " 'GLIOSARCOMA WITH FEATURES OF CHONDROBLASTIC OSTEOSARCOMA',\n",
       " 'TRANSFECTION OF HUMAN ASTROCYTOMA-CELLS WITH GLIAL FIBRILLARY ACIDIC PROTEIN COMPLEMENTARY-DNA - ANALYSIS OF EXPRESSION, PROLIFERATION, AND TUMORIGENICITY',\n",
       " 'AGE-RELATED-CHANGES OF SULFATED PROTEOGLYCANS IN THE HUMAN LAMINA-CRIBROSA',\n",
       " 'THE PROLIFERATION OF MATURE OLIGODENDROCYTES IN-VITRO IS STIMULATED BY BASIC FIBROBLAST GROWTH-FACTOR AND INHIBITED BY OLIGODENDROCYTE TYPE-2 ASTROCYTE PRECURSORS',\n",
       " 'ELECTROTRANSFER OF FIXED PHOSPHOPROTEINS FROM PIECES OF DRIED POLYACRYLAMIDE-GEL TO SMALL DISKS OF NITROCELLULOSE, NYLON OR POLYVINYLIDENE DIFLUORIDE',\n",
       " 'CONFOCAL MICROSCOPY AND COMPUTER-ASSISTED IMAGE-RECONSTRUCTION OF ASTROCYTES IN THE MAMMALIAN RETINA',\n",
       " 'INTRACELLULAR PH REGULATION IN CULTURED RAT ASTROCYTES IN CO2/HCO3--CONTAINING MEDIA',\n",
       " 'ALTERATIONS IN STRIATAL GLIAL FIBRILLARY ACIDIC PROTEIN EXPRESSION IN RESPONSE TO 6-HYDROXYDOPAMINE-INDUCED DENERVATION',\n",
       " 'PHYSIOLOGICAL-STUDIES IN DEAFFERENTED VISUAL-CORTEX CELLS OF CATS FOLLOWING TRANSPLANTATION OF FETAL XENOGRAFTS FROM THE RATS CORTEX',\n",
       " 'TOXOPLASMA-GONDII - DIFFERENTIAL LOCATION OF ANTIGENS SECRETED FROM ENCYSTED BRADYZOITES',\n",
       " 'MYELINATION BY MATURE OVINE OLIGODENDROCYTES IN-VIVO AND IN-VITRO - EVIDENCE THAT DIFFERENT STEPS IN THE MYELINATION PROCESS ARE INDEPENDENTLY CONTROLLED',\n",
       " 'INTRACELLULAR PH REGULATION IN SINGLE CULTURED ASTROCYTES FROM RAT FOREBRAIN',\n",
       " 'RECEPTOR-MEDIATED PHOSPHOLIPASE-D ACTIVITY IN PRIMARY ASTROGLIAL CULTURES',\n",
       " 'DIFFERENTIAL ACTIVATION OF MICROGLIA AND ASTROCYTES IN ANISOMORPHIC AND ISOMORPHIC GLIOTIC TISSUE',\n",
       " 'GLIAL FIBRILLARY ACIDIC PROTEIN AND ITS ENCODING MESSENGER-RNA EXHIBIT MOSAIC EXPRESSION IN A GLIOBLASTOMA MULTIFORM CELL-LINE OF CLONAL ORIGIN',\n",
       " 'INFLUENCE OF CULTURE SUBSTRATA ON THE DIFFERENTIATION OF ADVANCED PASSAGE GLIAL-CELLS IN CULTURES FROM AGED MOUSE CEREBRAL HEMISPHERES',\n",
       " 'THE GENERATION OF NITRIC-OXIDE PARTICIPATES IN GAMMA-IFN-INDUCED MHC CLASS-II ANTIGEN EXPRESSION BY CULTURED ASTROCYTOMA-CELLS',\n",
       " 'DOUBLE WHOLE-CELL PATCH-CLAMP CHARACTERIZATION OF GAP JUNCTIONAL CHANNELS IN ISOLATED INSECT EPIDERMAL-CELL PAIRS',\n",
       " 'OKADAIC ACID INDUCES EARLY CHANGES IN MICROTUBULE-ASSOCIATED PROTEIN-2 AND TAU-PHOSPHORYLATION PRIOR TO NEURODEGENERATION IN CULTURED CORTICAL-NEURONS',\n",
       " 'IN-VIVO CNS REMYELINATION - HNK-1 LABELS NEWLY DIFFERENTIATED OLIGODENDROCYTES BUT NOT PRECURSORS',\n",
       " 'IMMUNOCYTOCHEMISTRY OF AMINO-ACIDS IN THE RODENT PITUITARY USING EXTREMELY SPECIFIC, VERY HIGH-TITER ANTISERA',\n",
       " 'PRODUCT ION OF THE CYTOKINES INTERLEUKIN-1 AND INTERLEUKIN-6 BY MURINE BRAIN MICROVESSEL ENDOTHELIUM AND SMOOTH-MUSCLE PERICYTES',\n",
       " 'CHARACTERIZATION OF NORMAL BRAIN-REACTIVE ANTIBODIES IN GLIOMA CYST FLUIDS',\n",
       " 'NOREPINEPHRINE AND VASOACTIVE-INTESTINAL-PEPTIDE INDUCE IL-6 SECRETION BY ASTROCYTES - SYNERGISM WITH IL-1-BETA AND TNF-ALPHA',\n",
       " 'SPECIFIC INDUCTION OF INTRACELLULAR CALCIUM OSCILLATIONS BY COMPLEMENT MEMBRANE ATTACK ON OLIGODENDROGLIA',\n",
       " 'COMBINED OXYGEN AND GLUCOSE DEPRIVATION IN CORTICAL CELL-CULTURE - CALCIUM-DEPENDENT AND CALCIUM-INDEPENDENT MECHANISMS OF NEURONAL INJURY',\n",
       " 'A COMPLEX MOSAIC OF HIGH-AFFINITY KAINATE RECEPTORS IN RAT-BRAIN',\n",
       " 'UPTAKE, RELEASE, AND METABOLISM OF ALANINE IN NEURONS AND ASTROCYTES IN PRIMARY CULTURES',\n",
       " 'IMMUNOHISTOCHEMICAL STUDY OF THE PINEAL ASTROCYTES IN THE POSTNATAL-DEVELOPMENT OF THE CAT AND DOG PINEAL-GLAND',\n",
       " 'GLIAL-CELL ABNORMALITIES IN THE CNS OF THE CARBONIC ANHYDRASE-II DEFICIENT MUTANT MOUSE',\n",
       " 'A GLUTAMATERGIC MECHANISM FOR ALUMINUM TOXICITY IN ASTROCYTES',\n",
       " 'THE ACTION OF AMMONIA ON ASTROCYTE GLYCOGEN AND GLYCOGENOLYSIS',\n",
       " 'TRANSPORT AND METABOLISM OF GLUTAMATE BY RAT CEREBELLAR MITOCHONDRIA DURING AMMONIA TOXICITY',\n",
       " 'MOLECULAR-CLONING OF RAT GROWTH-INHIBITORY FACTOR CDNA AND THE EXPRESSION IN THE CENTRAL-NERVOUS-SYSTEM',\n",
       " 'REGULATION OF BETA-AMYLOID PRECURSOR PROTEIN ISOFORM MESSENGER-RNAS BY TRANSFORMING GROWTH-FACTOR-BETA-1 AND INTERLEUKIN-1-BETA IN ASTROCYTES',\n",
       " 'QUANTITATIVE RELATIONSHIP BETWEEN ALPHA(1)-ADRENERGIC RECEPTOR DENSITY AND THE RECEPTOR-MEDIATED CALCIUM RESPONSE IN INDIVIDUAL ASTROGLIAL CELLS',\n",
       " 'FUNCTIONAL COMPARISON OF THE ROLE OF GAMMA-SUBUNITS IN RECOMBINANT HUMAN GAMMA-AMINOBUTYRIC ACID(A) BENZODIAZEPINE RECEPTORS',\n",
       " 'EPENDYMAL CELLS OF THE CHOROID-PLEXUS EXPRESS TUMOR-NECROSIS-FACTOR-ALPHA',\n",
       " 'ASTROGLIAL CHANGES IN THE CEREBRAL-CORTEX OF AIDS BRAINS - A MORPHOMETRIC AND IMMUNOHISTOCHEMICAL INVESTIGATION',\n",
       " 'KYNURENINE PATHWAY ENZYMES IN A RAT MODEL OF CHRONIC EPILEPSY - IMMUNOHISTOCHEMICAL STUDY OF ACTIVATED GLIAL-CELLS',\n",
       " 'REGULATION OF ASTROGLIAL RESPONSIVENESS TO NEUROLIGANDS IN PRIMARY CULTURE',\n",
       " 'TIME-COURSE ANALYSIS OF CHANGES IN CALCITONIN-GENE-RELATED PEPTIDE-ENKEPHALIN-IMMUNOREACTIVITY AND METHIONINE-ENKEPHALIN-IMMUNOREACTIVITY IN THE FEMALE RAT PREOPTIC AREA AFTER ESTROGEN-TREATMENT',\n",
       " 'FATE AND BEHAVIOR OF GENETICALLY LABELED CEREBELLAR CELLS AFTER TRANSPLANTATION INTO MOUSE CEREBELLUM',\n",
       " 'NONINACTIVATING, TETRODOTOXIN-SENSITIVE NA+ CONDUCTANCE IN RAT OPTIC-NERVE AXONS',\n",
       " 'ASTROCYTE CYTOLYSIS BY MHC CLASS II-SPECIFIC MOUSE T-CELL CLONES',\n",
       " 'SYNTHESIS OF NITRIC-OXIDE IN CNS GLIAL-CELLS',\n",
       " 'LEAD INCREASES INOSITOL 1,4,5-TRISPHOSPHATE LEVELS BUT DOES NOT INTERFERE WITH CALCIUM TRANSIENTS IN PRIMARY RAT ASTROCYTES',\n",
       " 'INDUCTION OF CORTICAL SPREADING DEPRESSION WITH POTASSIUM-CHLORIDE UP-REGULATES LEVELS OF MESSENGER-RNA FOR GLIAL FIBRILLARY ACIDIC PROTEIN IN CORTEX AND HIPPOCAMPUS - INHIBITION BY MK-801',\n",
       " 'STIMULATION OF PHOSPHOINOSITIDE HYDROLYSIS BY TRANS-(+/-)-ACPD IS GREATLY ENHANCED WHEN ASTROCYTES ARE CULTURED IN A SERUM-FREE DEFINED MEDIUM',\n",
       " 'AXON DEPENDENT GLIAL CHANGES DURING OPTIC FIBER REGENERATION IN THE GOLDFISH',\n",
       " 'RECEPTORS FOR C-TYPE NATRIURETIC PEPTIDE IN CULTURED RAT GLIAL-CELLS',\n",
       " 'EFFECT OF ASTROGLIAL DEGENERATION ON THE BLOOD-BRAIN-BARRIER TO PROTEIN IN NEONATAL RATS',\n",
       " 'NEURITE-PROMOTING ACTIVITY OF INSULIN, INSULIN-LIKE GROWTH FACTOR-I AND NERVE GROWTH-FACTOR ON SPINAL MOTONEURONS IS ASTROCYTE DEPENDENT',\n",
       " 'INVOLVEMENT OF NITRIC-OXIDE ON THE CYTOKINE-INDUCED GROWTH OF GLIAL-CELL',\n",
       " 'ENDOTHELINS STIMULATE TYROSINE PHOSPHORYLATION AND ACTIVITY OF P42/MITOGEN-ACTIVATED PROTEIN-KINASE IN ASTROCYTES',\n",
       " 'N-15 NMR MEASUREMENT OF THE IN-VIVO RATE OF GLUTAMINE SYNTHESIS AND UTILIZATION AT STEADY-STATE IN THE BRAIN OF THE HYPERAMMONEMIC RAT',\n",
       " 'EVEN IN CULTURE, OLIGODENDROCYTES MYELINATE SOLELY AXONS',\n",
       " 'MORPHINE SUPPRESSES DNA-SYNTHESIS IN CULTURED MURINE ASTROCYTES FROM CORTEX, HIPPOCAMPUS AND STRIATUM',\n",
       " 'ULTRASTRUCTURAL-LOCALIZATION AND AFFERENT SOURCES OF CORTICOTROPIN-RELEASING FACTOR IN THE RAT ROSTRAL VENTROLATERAL MEDULLA - IMPLICATIONS FOR CENTRAL CARDIOVASCULAR REGULATION',\n",
       " 'JUN, FOS, KROX, AND CREB TRANSCRIPTION FACTOR PROTEINS IN THE RAT CORTEX - BASAL EXPRESSION AND INDUCTION BY SPREADING DEPRESSION AND EPILEPTIC SEIZURES',\n",
       " \"STRUCTURAL REQUIREMENTS OF IODOTHYRONINES FOR THE RAPID INACTIVATION AND INTERNALIZATION OF TYPE-II IODOTHYRONINE 5'-DEIODINASE IN GLIAL-CELLS\",\n",
       " 'INVASION OF EXPERIMENTAL RAT-BRAIN TUMOR - EARLY MORPHOLOGICAL-CHANGES FOLLOWING MICROINJECTION OF C6-GLIOMA CELLS',\n",
       " 'SYNAPTIC STRIPPING IN THE HUMAN FACIAL NUCLEUS',\n",
       " 'THE STRUCTURAL ORGANIZATION OF LAYER-I OF THE ADULT HUMAN ACOUSTIC CORTEX - A GOLGI AND ELECTRON-MICROSCOPY STUDY',\n",
       " 'HIV-1 TAT ALTERS NORMAL ORGANIZATION OF NEURONS AND ASTROCYTES IN PRIMARY RODENT BRAIN-CELL CULTURES - RGD SEQUENCE DEPENDENCE',\n",
       " 'CHRONIC PRENATAL ETHANOL EXPOSURE DOES NOT AFFECT THE EXPRESSION OF SELECTED GENES IN RAT-BRAIN DEVELOPMENT',\n",
       " 'CHARACTERIZATION OF INTEGRIN RECEPTORS IN NORMAL AND NEOPLASTIC HUMAN BRAIN',\n",
       " 'ANP RECEPTORS IN NEURONS AND ASTROCYTES FROM SPONTANEOUSLY HYPERTENSIVE RAT-BRAIN',\n",
       " 'PERIVASCULAR ASTROCYTES AND ENDOTHELIUM IN THE DEVELOPMENT OF THE BLOOD-BRAIN-BARRIER IN THE OPTIC TECTUM OF THE CHICK-EMBRYO',\n",
       " 'DIFFUSE MICROGLIOSIS ASSOCIATED WITH CEREBRAL ATROPHY IN THE ACQUIRED-IMMUNODEFICIENCY-SYNDROME',\n",
       " 'SURVIVAL AND NEURITE FORMATION OF MESENCEPHALIC TRIGEMINAL NEURONS OF THE RAT IN-VITRO',\n",
       " 'DESMOPLASTIC INFANTILE GANGLIOGLIOMA AND DESMOPLASTIC CEREBRAL ASTROCYTOMA OF INFANCY',\n",
       " 'POTASSIUM-STIMULATED CALCIUM INFLUX AND ITS INHIBITION BY NIMODIPINE IN CULTURED ASTROCYTES AND NEURONS',\n",
       " 'DIFFERENTIAL IL-1 SYNTHESIS BY ASTROCYTES FROM THEILERS MURINE ENCEPHALOMYELITIS VIRUS-SUSCEPTIBLE AND VIRUS-RESISTANT STRAINS OF MICE']"
      ]
     },
     "execution_count": 14,
     "metadata": {},
     "output_type": "execute_result"
    }
   ],
   "source": [
    "titles = [ str(str(title).replace(\"nan\", \"{0}\"))[1:-1].replace('\\n',\" \") for title in df['title']]\n",
    "\n",
    "titles[1:100]"
   ]
  },
  {
   "cell_type": "markdown",
   "metadata": {},
   "source": [
    "## Configuration of the environment\n",
    "\n",
    "Based in the conference below and this github:\n",
    "\n",
    "- https://github.com/bhargavvader/personal/tree/master/notebooks/text_analysis_tutorial\n",
    "\n",
    "### Installation\n",
    "\n",
    "```bash\n",
    "\n",
    "conda install spacy\n",
    "pip install pyLDAVis\n",
    "python -m spacy download en\n",
    "```\n",
    "\n",
    "### Bugs\n",
    "\n",
    "#### Memory problem\n",
    "\n",
    "```python\n",
    "ValueError: [E088] Text of length 6345007 exceeds maximum of 1000000. The v2.x parser and NER models require roughly 1GB of temporary memory per 100,000 characters in the input. This means long texts may cause memory allocation errors. If you're not using the parser or NER, it's probably safe to increase the `nlp.max_length` limit. The limit is in number of characters, so you can check whether your inputs are too long by checking `len(text)`.\n",
    "```"
   ]
  }
 ],
 "metadata": {
  "kernelspec": {
   "display_name": "Python 3",
   "language": "python",
   "name": "python3"
  },
  "language_info": {
   "codemirror_mode": {
    "name": "ipython",
    "version": 3
   },
   "file_extension": ".py",
   "mimetype": "text/x-python",
   "name": "python",
   "nbconvert_exporter": "python",
   "pygments_lexer": "ipython3",
   "version": "3.7.4"
  },
  "toc": {
   "base_numbering": 1,
   "nav_menu": {},
   "number_sections": true,
   "sideBar": true,
   "skip_h1_title": false,
   "title_cell": "Table of Contents",
   "title_sidebar": "Contents",
   "toc_cell": true,
   "toc_position": {},
   "toc_section_display": true,
   "toc_window_display": false
  },
  "varInspector": {
   "cols": {
    "lenName": 16,
    "lenType": 16,
    "lenVar": 40
   },
   "kernels_config": {
    "python": {
     "delete_cmd_postfix": "",
     "delete_cmd_prefix": "del ",
     "library": "var_list.py",
     "varRefreshCmd": "print(var_dic_list())"
    },
    "r": {
     "delete_cmd_postfix": ") ",
     "delete_cmd_prefix": "rm(",
     "library": "var_list.r",
     "varRefreshCmd": "cat(var_dic_list()) "
    }
   },
   "types_to_exclude": [
    "module",
    "function",
    "builtin_function_or_method",
    "instance",
    "_Feature"
   ],
   "window_display": false
  }
 },
 "nbformat": 4,
 "nbformat_minor": 4
}
